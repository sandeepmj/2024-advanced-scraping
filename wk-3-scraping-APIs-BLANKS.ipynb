{
 "cells": [
  {
   "cell_type": "markdown",
   "id": "e0e5edac",
   "metadata": {
    "id": "e0e5edac"
   },
   "source": [
    "# Scraping APIs\n",
    "\n",
    "A site with an API (Application Programming Interface) wants you to scrape it.\n",
    "\n",
    "Examples abound:\n",
    "\n",
    "* <a href=\"https://www.census.gov/data/developers/data-sets.html\">U.S. Census APIs</a>\n",
    "* <a href=\"https://apps.fas.usda.gov/opendataweb/home\">US Agriculture Commodities and Exports</a>\n",
    "* <a href=\"https://www.federalregister.gov/developers/documentation/api/v1\">Federal Register</a>\n",
    "* <a href=\"https://developer.dol.gov/beginners-guide/\">Labor Department</a>\n",
    "* <a href=\"https://www.eia.gov/\">U.S. Energy Information Department</a>\n",
    "\n",
    "Government sites tend  ```CSVs``` for download but their APIs offer more detailed options for data. They are not trying to hide the data.\n",
    "\n",
    "Private sites might have APIs, but often charge heafty prices for access beyond a basic number of downloads.\n",
    "\n",
    "The toughest/hardest part of scraping an API is that they ***ALL HAVE DIFFERENT INSTRUCTIONS*** on how to tap their data.\n",
    "\n",
    "Today, we'll explore different APIs that each build a different skill:\n",
    "\n",
    "1. Census health data – **building a simple API call.**\n",
    "2. USDA commodities exports – **using an API key and targeting specific commodities over several years.**\n",
    "3. Federal Register – **tapping search terms.**\n",
    "4. Energy Information Administration – **dealing with pagination.**\n",
    "\n",
    "What they all have in common:\n",
    "\n",
    "1. a base url\n",
    "2. a query string\n",
    "3. tied together with a query character ```?```\n",
    "4. an API key.\n",
    "\n",
    "Combined together these are known as an ```API endpoint```.\n",
    "\n",
    "You make an ```API call``` (a request) using the ```API endpoint```.\n",
    "\n",
    "\n"
   ]
  },
  {
   "cell_type": "code",
   "execution_count": null,
   "id": "2b5af8cd",
   "metadata": {
    "id": "2b5af8cd"
   },
   "outputs": [],
   "source": [
    "## import libraries\n",
    "import requests\n",
    "import pandas as pd\n",
    "from icecream import ic\n",
    "\n"
   ]
  },
  {
   "cell_type": "markdown",
   "id": "cfffa300",
   "metadata": {
    "id": "cfffa300"
   },
   "source": [
    "### 1. Census health data – **building a simple API call.**\n",
    "\n",
    "- <a href=\"https://www.census.gov/data/developers/data-sets/Health-Insurance-Statistics.html\">Census health landing page</a>\n",
    "- List of <a href=\"https://api.census.gov/data/timeseries/healthins/sahie/variables.html\">possible variables</a>\n",
    "\n",
    "We want to create a dataframe with the following info for every state in 2021:\n",
    "\n",
    "1. Total number insured\n",
    "2. Percent insured\n",
    "3. Total number uninsured\n",
    "4. Percent uninsured"
   ]
  },
  {
   "cell_type": "code",
   "execution_count": null,
   "id": "e56f1f28",
   "metadata": {
    "id": "e56f1f28"
   },
   "outputs": [],
   "source": [
    "## the parts to build your API call."
   ]
  },
  {
   "cell_type": "code",
   "execution_count": null,
   "id": "d098d998",
   "metadata": {
    "id": "d098d998"
   },
   "outputs": [],
   "source": [
    "## create a dictionary to know what codes mean\n"
   ]
  },
  {
   "cell_type": "code",
   "execution_count": null,
   "id": "374779e2",
   "metadata": {
    "id": "374779e2"
   },
   "outputs": [],
   "source": [
    "## format into api query format\n"
   ]
  },
  {
   "cell_type": "code",
   "execution_count": null,
   "id": "2f14f877",
   "metadata": {
    "id": "2f14f877"
   },
   "outputs": [],
   "source": [
    "## other targets\n"
   ]
  },
  {
   "cell_type": "code",
   "execution_count": null,
   "id": "9b269eac",
   "metadata": {
    "id": "9b269eac"
   },
   "outputs": [],
   "source": [
    "## create query string\n"
   ]
  },
  {
   "cell_type": "code",
   "execution_count": null,
   "id": "2218e0c3",
   "metadata": {
    "id": "2218e0c3"
   },
   "outputs": [],
   "source": [
    "## create full API call\n"
   ]
  },
  {
   "cell_type": "code",
   "execution_count": null,
   "id": "ddfbd7af",
   "metadata": {
    "id": "ddfbd7af"
   },
   "outputs": [],
   "source": [
    "## get response\n"
   ]
  },
  {
   "cell_type": "code",
   "execution_count": null,
   "id": "8da550c6",
   "metadata": {
    "id": "8da550c6",
    "scrolled": true
   },
   "outputs": [],
   "source": [
    "## turn response into json\n"
   ]
  },
  {
   "cell_type": "code",
   "execution_count": null,
   "id": "5ddd9297",
   "metadata": {
    "id": "5ddd9297"
   },
   "outputs": [],
   "source": [
    "## create dataframe\n"
   ]
  },
  {
   "cell_type": "code",
   "execution_count": null,
   "id": "9c126671",
   "metadata": {
    "id": "9c126671"
   },
   "outputs": [],
   "source": [
    "## rename column headers with more meaning full headers\n"
   ]
  },
  {
   "cell_type": "code",
   "execution_count": null,
   "id": "31daf667",
   "metadata": {
    "id": "31daf667"
   },
   "outputs": [],
   "source": [
    "## cooy race category column to be converted to description next cell\n"
   ]
  },
  {
   "cell_type": "code",
   "execution_count": null,
   "id": "5fedcbba",
   "metadata": {
    "id": "5fedcbba"
   },
   "outputs": [],
   "source": [
    "## replace with codes\n"
   ]
  },
  {
   "cell_type": "markdown",
   "id": "8250f7ad",
   "metadata": {
    "id": "8250f7ad"
   },
   "source": [
    "### 2. USDA commodities exports – **using an API key and targeting specific commodities over several years.**\n",
    "\n",
    "- <a href=\"https://apps.fas.usda.gov/opendataweb/home\">USDA APIs endpoints</a>\n",
    "- Get an <a href=\"https://apps.fas.usda.gov/opendataweb/home\">API key</a>\n",
    "\n",
    "We want to create a dataframe with exports between 2020-2022 to all countries for the following commodities:\n",
    "\n",
    "1. All Wheat\n",
    "2. Oats\n",
    "3. Cuts of Beef\n",
    "4. Cuts of Pork"
   ]
  },
  {
   "cell_type": "code",
   "execution_count": null,
   "id": "1a99c3f8",
   "metadata": {
    "id": "1a99c3f8"
   },
   "outputs": [],
   "source": [
    "## find the parts to build your API call"
   ]
  },
  {
   "cell_type": "code",
   "execution_count": null,
   "id": "21b7a64b",
   "metadata": {
    "id": "21b7a64b"
   },
   "outputs": [],
   "source": [
    "## get commodities list\n"
   ]
  },
  {
   "cell_type": "code",
   "execution_count": null,
   "id": "afeb0134",
   "metadata": {
    "id": "afeb0134"
   },
   "outputs": [],
   "source": [
    "## we create a headers with your API key- use your own\n"
   ]
  },
  {
   "cell_type": "code",
   "execution_count": null,
   "id": "a46b1bab",
   "metadata": {
    "id": "a46b1bab"
   },
   "outputs": [],
   "source": [
    "## now let's put into get requests\n",
    "## we check the response status code\n"
   ]
  },
  {
   "cell_type": "markdown",
   "id": "18cb9d75",
   "metadata": {
    "id": "18cb9d75"
   },
   "source": [
    "### Get endpoint and test out on a single commodity\n"
   ]
  },
  {
   "cell_type": "code",
   "execution_count": null,
   "id": "a027ecd6",
   "metadata": {
    "id": "a027ecd6"
   },
   "outputs": [],
   "source": [
    "## your end point here\n"
   ]
  },
  {
   "cell_type": "code",
   "execution_count": null,
   "id": "8a95e283",
   "metadata": {
    "id": "8a95e283"
   },
   "outputs": [],
   "source": [
    "## now let's put into get requests\n",
    "## we check the response status code\n"
   ]
  },
  {
   "cell_type": "code",
   "execution_count": null,
   "id": "4a7d7340",
   "metadata": {
    "id": "4a7d7340"
   },
   "outputs": [],
   "source": [
    "## let's store our response into an object called data\n"
   ]
  },
  {
   "cell_type": "code",
   "execution_count": null,
   "id": "420de3e0",
   "metadata": {
    "id": "420de3e0"
   },
   "outputs": [],
   "source": [
    "## convert that list of dicts into a dataframe called df\n"
   ]
  },
  {
   "cell_type": "code",
   "execution_count": null,
   "id": "03b9a4a5",
   "metadata": {
    "id": "03b9a4a5"
   },
   "outputs": [],
   "source": [
    "## Now iterate through all our target items\n",
    "\n"
   ]
  },
  {
   "cell_type": "code",
   "execution_count": null,
   "id": "b9b37185",
   "metadata": {
    "id": "b9b37185"
   },
   "outputs": [],
   "source": [
    "## endpoint templates\n",
    "\n"
   ]
  },
  {
   "cell_type": "code",
   "execution_count": null,
   "id": "92de8c30",
   "metadata": {
    "id": "92de8c30"
   },
   "outputs": [],
   "source": [
    "## iterate to get all the data\n"
   ]
  },
  {
   "cell_type": "code",
   "execution_count": null,
   "id": "bc0cd046",
   "metadata": {
    "id": "bc0cd046"
   },
   "outputs": [],
   "source": [
    "## call list\n"
   ]
  },
  {
   "cell_type": "code",
   "execution_count": null,
   "id": "d9ec42c2",
   "metadata": {
    "id": "d9ec42c2"
   },
   "outputs": [],
   "source": [
    "## concat into single df\n"
   ]
  },
  {
   "cell_type": "code",
   "execution_count": null,
   "id": "a08867d7",
   "metadata": {
    "id": "a08867d7"
   },
   "outputs": [],
   "source": [
    "## call df\n"
   ]
  },
  {
   "cell_type": "code",
   "execution_count": null,
   "id": "9af8a195",
   "metadata": {
    "id": "9af8a195"
   },
   "outputs": [],
   "source": [
    "## confirm we have all our target commodities\n"
   ]
  },
  {
   "cell_type": "markdown",
   "id": "cac797f8",
   "metadata": {
    "id": "cac797f8"
   },
   "source": [
    "### 3. <a id=\"federal\"></a>Federal Register – **tapping search terms.**\n",
    "\n",
    "We have decades of <a href=\"https://docs.google.com/spreadsheets/d/130WeumbMZjcoRP4D-1uJ7bM0aKBZzt4N/edit?usp=sharing&ouid=112307892189798608417&rtpof=true&sd=true\">SBA Excel files</a> that detail loans given to small businesses to recover after climate disasters. The only information we have about the type of disasters are codes in one of the columns that look like:\n",
    "\n",
    "- CA-00279\n",
    "- IL-00051\n",
    "- NC-00099\n",
    "- CA-00288\n",
    "- LA-00079\n",
    "\n",
    "The <a href=\"https://www.federalregister.gov/\">Federal Register</a> allows us to search for what these codes stand for. But we can't search for nearly a thousand such disaster codes. When we try to scrape the site, it warns us to use the API instead.\n",
    "\n",
    "Federal Register <a href=\"https://www.federalregister.gov/developers/documentation/api/v1#/Federal%20Register%20Documents/get_documents__format_\">API documentation</a>"
   ]
  },
  {
   "cell_type": "code",
   "execution_count": null,
   "id": "611d3f63",
   "metadata": {
    "id": "611d3f63"
   },
   "outputs": [],
   "source": [
    "## find the end point"
   ]
  },
  {
   "cell_type": "markdown",
   "id": "840dd070",
   "metadata": {
    "id": "840dd070"
   },
   "source": [
    "#### Test on single endpoint after figuring out how to build API call"
   ]
  },
  {
   "cell_type": "code",
   "execution_count": null,
   "id": "7276557c",
   "metadata": {
    "id": "7276557c"
   },
   "outputs": [],
   "source": [
    "## endpoint\n"
   ]
  },
  {
   "cell_type": "code",
   "execution_count": null,
   "id": "dbc99f2c",
   "metadata": {
    "id": "dbc99f2c"
   },
   "outputs": [],
   "source": [
    "## get data\n"
   ]
  },
  {
   "cell_type": "code",
   "execution_count": null,
   "id": "99fc4879",
   "metadata": {
    "id": "99fc4879"
   },
   "outputs": [],
   "source": [
    "## type\n"
   ]
  },
  {
   "cell_type": "code",
   "execution_count": null,
   "id": "3b71a993",
   "metadata": {
    "id": "3b71a993"
   },
   "outputs": [],
   "source": [
    "## targeting incidents\n"
   ]
  },
  {
   "cell_type": "markdown",
   "id": "57de1e1d",
   "metadata": {
    "id": "57de1e1d"
   },
   "source": [
    "### Iterate through entire list of codes"
   ]
  },
  {
   "cell_type": "code",
   "execution_count": null,
   "id": "0e3545b0",
   "metadata": {
    "id": "0e3545b0"
   },
   "outputs": [],
   "source": [
    "## Normally will take from df as a list\n",
    "## build disaster code list\n",
    "disaster_codes = [\"CA-00279\",\"IL-00051\", \"NC-00099\" ]"
   ]
  },
  {
   "cell_type": "code",
   "execution_count": null,
   "id": "9f857dff",
   "metadata": {
    "id": "9f857dff"
   },
   "outputs": [],
   "source": [
    "## provide base url\n"
   ]
  },
  {
   "cell_type": "code",
   "execution_count": null,
   "id": "a2a5ae7e",
   "metadata": {
    "id": "a2a5ae7e"
   },
   "outputs": [],
   "source": [
    "## iterate through all endpoints\n"
   ]
  },
  {
   "cell_type": "code",
   "execution_count": null,
   "id": "6780bf93",
   "metadata": {
    "id": "6780bf93"
   },
   "outputs": [],
   "source": [
    "## call list\n"
   ]
  },
  {
   "cell_type": "markdown",
   "id": "7c731d2b",
   "metadata": {
    "id": "7c731d2b"
   },
   "source": [
    "### 4. Energy Information Administration – **dealing with pagination.**\n",
    "\n",
    "From the <a href=\"https://www.eia.gov/\">Energy Information Administration</a>, we want to compile energy generation by type of fuel and region for about 5 days.\n",
    "\n",
    "We will encounter a limit on the number of items per API call.\n",
    "\n",
    "Find our API endpoint first."
   ]
  },
  {
   "cell_type": "code",
   "execution_count": null,
   "id": "b7fdf879",
   "metadata": {
    "id": "b7fdf879"
   },
   "outputs": [],
   "source": [
    "## your target endpoint\n"
   ]
  },
  {
   "cell_type": "code",
   "execution_count": null,
   "id": "9f02b00e",
   "metadata": {
    "id": "9f02b00e"
   },
   "outputs": [],
   "source": [
    "## get response\n"
   ]
  },
  {
   "cell_type": "code",
   "execution_count": null,
   "id": "0f02ca9a",
   "metadata": {},
   "outputs": [],
   "source": [
    "## import ceiling division from math\n",
    "\n"
   ]
  },
  {
   "cell_type": "code",
   "execution_count": null,
   "id": "ce3e4a79",
   "metadata": {
    "id": "ce3e4a79"
   },
   "outputs": [],
   "source": [
    "## paginate our API calls\n",
    "\n"
   ]
  },
  {
   "cell_type": "code",
   "execution_count": null,
   "id": "f0705b8f",
   "metadata": {
    "id": "f0705b8f"
   },
   "outputs": [],
   "source": [
    "## for loop with pagination\n"
   ]
  },
  {
   "cell_type": "code",
   "execution_count": null,
   "id": "f8f41f74",
   "metadata": {
    "id": "f8f41f74"
   },
   "outputs": [],
   "source": [
    "## call all data\n"
   ]
  },
  {
   "cell_type": "code",
   "execution_count": null,
   "id": "2cd133f4",
   "metadata": {
    "id": "2cd133f4"
   },
   "outputs": [],
   "source": [
    "## length\n"
   ]
  },
  {
   "cell_type": "code",
   "execution_count": null,
   "id": "5de327fd",
   "metadata": {
    "id": "5de327fd"
   },
   "outputs": [],
   "source": [
    "## use itertools to flatten list with nested lists\n"
   ]
  },
  {
   "cell_type": "code",
   "execution_count": null,
   "id": "dbbf7cb0",
   "metadata": {
    "id": "dbbf7cb0"
   },
   "outputs": [],
   "source": [
    "## flatten nested lists\n"
   ]
  },
  {
   "cell_type": "code",
   "execution_count": null,
   "id": "1607b9dc",
   "metadata": {
    "id": "1607b9dc"
   },
   "outputs": [],
   "source": [
    "## convert to df\n"
   ]
  },
  {
   "cell_type": "code",
   "execution_count": null,
   "id": "422c99b0",
   "metadata": {
    "id": "422c99b0"
   },
   "outputs": [],
   "source": []
  },
  {
   "cell_type": "code",
   "execution_count": null,
   "id": "2367bda5",
   "metadata": {
    "id": "2367bda5"
   },
   "outputs": [],
   "source": []
  },
  {
   "cell_type": "code",
   "execution_count": null,
   "id": "1407fbd3",
   "metadata": {
    "id": "1407fbd3"
   },
   "outputs": [],
   "source": [
    "fips_codes = {\n",
    "    'Alabama': '01',\n",
    "    'Alaska': '02',\n",
    "    'Arizona': '04',\n",
    "    'Arkansas': '05',\n",
    "    'California': '06',\n",
    "    'Colorado': '08',\n",
    "    'Connecticut': '09',\n",
    "    'Delaware': '10',\n",
    "    'Florida': '12',\n",
    "    'Georgia': '13',\n",
    "    'Hawaii': '15',\n",
    "    'Idaho': '16',\n",
    "    'Illinois': '17',\n",
    "    'Indiana': '18',\n",
    "    'Iowa': '19',\n",
    "    'Kansas': '20',\n",
    "    'Kentucky': '21',\n",
    "    'Louisiana': '22',\n",
    "    'Maine': '23',\n",
    "    'Maryland': '24',\n",
    "    'Massachusetts': '25',\n",
    "    'Michigan': '26',\n",
    "    'Minnesota': '27',\n",
    "    'Mississippi': '28',\n",
    "    'Missouri': '29',\n",
    "    'Montana': '30',\n",
    "    'Nebraska': '31',\n",
    "    'Nevada': '32',\n",
    "    'New Hampshire': '33',\n",
    "    'New Jersey': '34',\n",
    "    'New Mexico': '35',\n",
    "    'New York': '36',\n",
    "    'North Carolina': '37',\n",
    "    'North Dakota': '38',\n",
    "    'Ohio': '39',\n",
    "    'Oklahoma': '40',\n",
    "    'Oregon': '41',\n",
    "    'Pennsylvania': '42',\n",
    "    'Rhode Island': '44',\n",
    "    'South Carolina': '45',\n",
    "    'South Dakota': '46',\n",
    "    'Tennessee': '47',\n",
    "    'Texas': '48',\n",
    "    'Utah': '49',\n",
    "    'Vermont': '50',\n",
    "    'Virginia': '51',\n",
    "    'Washington': '53',\n",
    "    'West Virginia': '54',\n",
    "    'Wisconsin': '55',\n",
    "    'Wyoming': '56',\n",
    "    'District of Columbia': '11',\n",
    "    'Puerto Rico': '72'\n",
    "}\n"
   ]
  }
 ],
 "metadata": {
  "celltoolbar": "Slideshow",
  "colab": {
   "provenance": []
  },
  "kernelspec": {
   "display_name": "Python 3 (ipykernel)",
   "language": "python",
   "name": "python3"
  },
  "language_info": {
   "codemirror_mode": {
    "name": "ipython",
    "version": 3
   },
   "file_extension": ".py",
   "mimetype": "text/x-python",
   "name": "python",
   "nbconvert_exporter": "python",
   "pygments_lexer": "ipython3",
   "version": "3.9.7"
  }
 },
 "nbformat": 4,
 "nbformat_minor": 5
}
