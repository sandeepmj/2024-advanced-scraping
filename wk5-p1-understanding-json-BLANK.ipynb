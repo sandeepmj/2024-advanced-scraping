{
 "cells": [
  {
   "cell_type": "markdown",
   "metadata": {
    "id": "RRz9vYvOK4Iv"
   },
   "source": [
    "# Taming JSON\n",
    "\n",
    "## Part 1 - reading\n",
    "\n",
    "JSON, or JavaScript Object Notation, is a light-weight data storage format that is now the most prevalent way that information is held in databases and web applications – data that is often critical to our reporting. At the same time JSON can be difficult to parse because of its deeply nested logic.\n",
    "\n",
    "Let's study a few JSON files to understand their structure."
   ]
  },
  {
   "cell_type": "markdown",
   "metadata": {
    "id": "N7tn9lvSK4Iy"
   },
   "source": [
    "## Types of JSON objects"
   ]
  },
  {
   "cell_type": "markdown",
   "metadata": {
    "id": "7P1qv7ryK4Iy"
   },
   "source": [
    "### Large but Easy (and in a file)\n",
    "\n",
    "<a href=\"https://raw.githubusercontent.com/sandeepmj/datasets/main/guns.json\">Download</a>: ```guns.json```\n",
    "\n",
    "<a href=\"https://raw.githubusercontent.com/sandeepmj/datasets/main/gun-data-in-json-file.json\">Download:</a> ```gun-data-in-json-file.json```\n",
    "\n",
    "<a href=\"https://raw.githubusercontent.com/sandeepmj/datasets/main/countries.json\">Download</a>: ```countries.json```\n",
    "\n",
    "What's the difference between these two files?"
   ]
  },
  {
   "cell_type": "markdown",
   "metadata": {
    "id": "S9GyZDjyK4Iz"
   },
   "source": [
    "#### Small but Complex (in your notebook):"
   ]
  },
  {
   "cell_type": "code",
   "execution_count": 3,
   "metadata": {},
   "outputs": [
    {
     "data": {
      "text/plain": [
       "[{'study': 'Toxic Water Research',\n",
       "  'region': 'Midwest',\n",
       "  'scope': 'Regional',\n",
       "  'details': {'lead_scientist': 'Dr. Emily Carter',\n",
       "   'contacts': {'email': {'report_issues': 'issues@toxicwaterresearch.com',\n",
       "     'inquiries': 'contact@toxicwaterresearch.com'},\n",
       "    'phone': '800123456'}}},\n",
       " {'study': 'Chemical Contaminants Review',\n",
       "  'region': 'Northeast',\n",
       "  'scope': 'National',\n",
       "  'details': {'lead_scientist': 'Dr. Robert Mason',\n",
       "   'contacts': {'email': {'report_issues': 'issues@chemcontaminantsreview.com',\n",
       "     'inquiries': 'contact@chemcontaminantsreview.com'},\n",
       "    'phone': '800987654'}}}]"
      ]
     },
     "execution_count": 3,
     "metadata": {},
     "output_type": "execute_result"
    }
   ],
   "source": [
    "## run this MOCK data cell:\n",
    "\n",
    "[\n",
    "  {\n",
    "    \"study\": \"Toxic Water Research\",\n",
    "    \"region\": \"Midwest\",\n",
    "    \"scope\": \"Regional\",\n",
    "    \"details\": {\n",
    "      \"lead_scientist\": \"Dr. Emily Carter\",\n",
    "      \"contacts\": {\n",
    "        \"email\": {\n",
    "          \"report_issues\": \"issues@toxicwaterresearch.com\",\n",
    "          \"inquiries\": \"contact@toxicwaterresearch.com\"\n",
    "        },\n",
    "        \"phone\": \"800123456\"\n",
    "      }\n",
    "    }\n",
    "  },\n",
    "  {\n",
    "    \"study\": \"Chemical Contaminants Review\",\n",
    "    \"region\": \"Northeast\",\n",
    "    \"scope\": \"National\",\n",
    "    \"details\": {\n",
    "      \"lead_scientist\": \"Dr. Robert Mason\",\n",
    "      \"contacts\": {\n",
    "        \"email\": {\n",
    "          \"report_issues\": \"issues@chemcontaminantsreview.com\",\n",
    "          \"inquiries\": \"contact@chemcontaminantsreview.com\"\n",
    "        },\n",
    "        \"phone\": \"800987654\"\n",
    "      }\n",
    "    }\n",
    "  }\n",
    "]\n"
   ]
  },
  {
   "cell_type": "markdown",
   "metadata": {
    "id": "UpO_TAyUK4I0"
   },
   "source": [
    "#### Massive and Nested (and on a server)\n",
    "\n",
    "<a href=\"https://epicovcharts.bii.a-star.edu.sg/variants-dashboard/data/variants_countries_count.json\">Global COVID data</a>"
   ]
  },
  {
   "cell_type": "markdown",
   "metadata": {
    "id": "KFmMfWqSK4I0"
   },
   "source": [
    "## Reading JSON objects"
   ]
  },
  {
   "cell_type": "code",
   "execution_count": 5,
   "metadata": {
    "id": "_gQFZZemK4I0"
   },
   "outputs": [],
   "source": [
    "## import libraries\n",
    "import pandas as pd\n"
   ]
  },
  {
   "cell_type": "markdown",
   "metadata": {
    "id": "o9bGBnZHK4I1"
   },
   "source": [
    "### Read ```JSON``` file\n",
    "\n",
    "#### Sometimes, we are in luck with a cleanly packaged ```JSON``` file that is not nested and plays nice.\n",
    "\n",
    "All we need is ```pd.read_json(\"file_path\")```"
   ]
  },
  {
   "cell_type": "code",
   "execution_count": null,
   "metadata": {
    "id": "lnI5__RTK4I1"
   },
   "outputs": [],
   "source": [
    "## these files can be read right into a df\n"
   ]
  },
  {
   "cell_type": "markdown",
   "metadata": {
    "id": "H6V-MkayK4I1"
   },
   "source": [
    "#### ... and easily exported as a csv file:"
   ]
  },
  {
   "cell_type": "code",
   "execution_count": null,
   "metadata": {
    "id": "6h1uiPVnK4I1"
   },
   "outputs": [],
   "source": [
    "## export as csv file\n"
   ]
  },
  {
   "cell_type": "markdown",
   "metadata": {
    "id": "xIgK2gVIK4I1"
   },
   "source": [
    "### What about this file:\n",
    "\n",
    "```gun-data-in-json-file.json```"
   ]
  },
  {
   "cell_type": "code",
   "execution_count": null,
   "metadata": {
    "id": "Jgxo3UZDK4I1"
   },
   "outputs": [],
   "source": [
    "## READ into df\n"
   ]
  },
  {
   "cell_type": "markdown",
   "metadata": {
    "id": "rH7icr8OK4I2"
   },
   "source": [
    "## ```json.load()``` v. ```json.loads()```\n",
    "\n",
    "The ```json``` package has two similarly named methods that each do something quite different:\n",
    "\n",
    "- ```.load()``` creates a ```Python Dictionary``` from a **```json``` file.**\n",
    "- ```.loads()``` creates a ```Python Dictionary``` from a **```json``` string**."
   ]
  },
  {
   "cell_type": "code",
   "execution_count": null,
   "metadata": {
    "id": "G82ofoLJK4I2"
   },
   "outputs": [],
   "source": [
    "## import python's json package\n"
   ]
  },
  {
   "cell_type": "markdown",
   "metadata": {
    "id": "3OtNPz1dK4I2"
   },
   "source": [
    "#### Import ```json``` file"
   ]
  },
  {
   "cell_type": "code",
   "execution_count": null,
   "metadata": {
    "id": "7aV2QZE7K4I2"
   },
   "outputs": [],
   "source": [
    "## open and load json file\n"
   ]
  },
  {
   "cell_type": "code",
   "execution_count": 6,
   "metadata": {},
   "outputs": [],
   "source": [
    "## type object"
   ]
  },
  {
   "cell_type": "code",
   "execution_count": null,
   "metadata": {},
   "outputs": [],
   "source": [
    "## type variable"
   ]
  },
  {
   "cell_type": "code",
   "execution_count": null,
   "metadata": {},
   "outputs": [],
   "source": [
    "## turn into df"
   ]
  },
  {
   "cell_type": "markdown",
   "metadata": {
    "id": "44G0PBvNK4I2"
   },
   "source": [
    "#### Import ```json``` file"
   ]
  },
  {
   "cell_type": "code",
   "execution_count": null,
   "metadata": {
    "id": "aG64PjUvK4I2"
   },
   "outputs": [],
   "source": [
    "## open and load json file\n"
   ]
  },
  {
   "cell_type": "code",
   "execution_count": null,
   "metadata": {
    "id": "UioLl-JuK4I2"
   },
   "outputs": [],
   "source": [
    "## type of data\n"
   ]
  },
  {
   "cell_type": "code",
   "execution_count": null,
   "metadata": {
    "id": "A68SAQgRK4I2"
   },
   "outputs": [],
   "source": [
    "## call the keys\n"
   ]
  },
  {
   "cell_type": "code",
   "execution_count": null,
   "metadata": {
    "id": "xb73QgOHK4I2"
   },
   "outputs": [],
   "source": [
    "## turn into a dataframe\n"
   ]
  },
  {
   "cell_type": "markdown",
   "metadata": {
    "id": "rF6GWru0K4I2"
   },
   "source": [
    "### What do we see?\n",
    "\n",
    "We'll learn how to deal with this shortly."
   ]
  },
  {
   "cell_type": "markdown",
   "metadata": {
    "id": "M7HpXtXnK4I2"
   },
   "source": [
    "## Import ```json``` string"
   ]
  },
  {
   "cell_type": "code",
   "execution_count": null,
   "metadata": {
    "id": "Z_C9q5XCK4I2"
   },
   "outputs": [],
   "source": [
    "## run this cell that holds a json string\n",
    "my_json = '''\n",
    "{\n",
    "\t\"gun-data\":\n",
    "\n",
    "\t\t[{\n",
    "\t\t\t\t\"occur_year\": \"2006\",\n",
    "\t\t\t\t\"boro\": \"The Bronx\",\n",
    "\t\t\t\t\"precinct\": 41,\n",
    "\t\t\t\t\"statistical_murder_flag\": \"No\",\n",
    "\t\t\t\t\"vic_age_group\": \"25-44\",\n",
    "\t\t\t\t\"vic_sex\": \"Male\",\n",
    "\t\t\t\t\"vic_race\": \"White Hispanic\"\n",
    "\t\t\t},\n",
    "\n",
    "\t\t\t{\n",
    "\n",
    "\t\t\t\t\"occur_year\": \"2006\",\n",
    "\t\t\t\t\"boro\": \"Manhattan\",\n",
    "\t\t\t\t\"precinct\": 34,\n",
    "\t\t\t\t\"statistical_murder_flag\": \"No\",\n",
    "\t\t\t\t\"vic_age_group\": \"18-24\",\n",
    "\t\t\t\t\"vic_sex\": \"Male\",\n",
    "\t\t\t\t\"vic_race\": \"White Hispanic\"\n",
    "\n",
    "\t\t\t},\n",
    "\t\t\t{\n",
    "\t\t\t\t\"occur_year\": \"2006\",\n",
    "\t\t\t\t\"boro\": \"Manhattan\",\n",
    "\t\t\t\t\"precinct\": 34,\n",
    "\t\t\t\t\"statistical_murder_flag\": \"No\",\n",
    "\t\t\t\t\"vic_age_group\": \"18-24\",\n",
    "\t\t\t\t\"vic_sex\": \"Male\",\n",
    "\t\t\t\t\"vic_race\": \"White Hispanic\"\n",
    "\t\t\t},\n",
    "\t\t\t{\n",
    "\t\t\t\t\"occur_year\": \"2006\",\n",
    "\t\t\t\t\"boro\": \"The Bronx\",\n",
    "\t\t\t\t\"precinct\": 44,\n",
    "\t\t\t\t\"statistical_murder_flag\": \"No\",\n",
    "\t\t\t\t\"vic_age_group\": \"18-24\",\n",
    "\t\t\t\t\"vic_sex\": \"Female\",\n",
    "\t\t\t\t\"vic_race\": \"White Hispanic\"\n",
    "\t\t\t}\n",
    "\t\t]\n",
    "\n",
    "}\n",
    "\n",
    "'''"
   ]
  },
  {
   "cell_type": "code",
   "execution_count": null,
   "metadata": {
    "id": "4XBTQMpPK4I3"
   },
   "outputs": [],
   "source": [
    "## load json string\n"
   ]
  },
  {
   "cell_type": "code",
   "execution_count": null,
   "metadata": {
    "id": "mmoaHfzuK4I3"
   },
   "outputs": [],
   "source": [
    "## type of data\n"
   ]
  },
  {
   "cell_type": "code",
   "execution_count": null,
   "metadata": {
    "id": "mjK4oa53K4I3"
   },
   "outputs": [],
   "source": [
    "## get keys\n"
   ]
  },
  {
   "cell_type": "code",
   "execution_count": null,
   "metadata": {
    "id": "4oMfbUuPK4I3"
   },
   "outputs": [],
   "source": [
    "## turn into a dataframe\n"
   ]
  },
  {
   "cell_type": "code",
   "execution_count": null,
   "metadata": {
    "id": "0HNyMIimK4I4"
   },
   "outputs": [],
   "source": []
  }
 ],
 "metadata": {
  "colab": {
   "provenance": []
  },
  "kernelspec": {
   "display_name": "Python 3 (ipykernel)",
   "language": "python",
   "name": "python3"
  },
  "language_info": {
   "codemirror_mode": {
    "name": "ipython",
    "version": 3
   },
   "file_extension": ".py",
   "mimetype": "text/x-python",
   "name": "python",
   "nbconvert_exporter": "python",
   "pygments_lexer": "ipython3",
   "version": "3.12.2"
  }
 },
 "nbformat": 4,
 "nbformat_minor": 4
}
