{
 "cells": [
  {
   "cell_type": "markdown",
   "metadata": {
    "id": "vaYyH-hinSZ_"
   },
   "source": [
    "# Scraping Scrollers and Input-Required Sites\n",
    "\n",
    "\n",
    "## Scrollers\n",
    "\n",
    "Infinite scroll sites are designed for the mobile age. Links are hard to tap with a finger on a small device,  but a simple swipe easily scrolls the page down to reveal more data. That can make scraping an infinite scroll page difficult. We’ll learn to find the actual location of the data buried in the scrolls.\n",
    "\n",
    "Here's a couple of examples of a scrolling sites:\n",
    "\n",
    "\n",
    "- <a href=\"https://the-internet.herokuapp.com/infinite_scroll\">Demo technique here</a>\n",
    "- <a href=\"https://www.gofundme.com/discover\">GoFundMe</a>\n",
    "- <a href=\"https://www.seethroughny.net/\">NY State Expenditures, Pensions, Contracts</a>\n",
    "- <a href=\"https://www.quintoandar.com.br/alugar/imovel/sao-paulo-sp-brasil\">Rentals in São Paulo</a>\n",
    "\n",
    "Let's target the data source we'll need to scrape this <a href=\"https://quotes.toscrape.com/scroll\">mockup site</a>."
   ]
  },
  {
   "cell_type": "code",
   "execution_count": null,
   "metadata": {
    "id": "gZIU0Vl-nSDg"
   },
   "outputs": [],
   "source": [
    "## import usual suspects\n",
    "import requests ## to capture content from web pages\n",
    "import pandas as pd ## to easily export our data to dataframes/CSVs\n",
    "from random import randrange ## to create a range of numbers\n",
    "import time # for timer\n",
    "import json ## to work with JSON data"
   ]
  },
  {
   "cell_type": "code",
   "execution_count": null,
   "metadata": {},
   "outputs": [],
   "source": [
    "### create new cells here as needed"
   ]
  },
  {
   "cell_type": "code",
   "execution_count": null,
   "metadata": {},
   "outputs": [],
   "source": []
  },
  {
   "cell_type": "code",
   "execution_count": null,
   "metadata": {},
   "outputs": [],
   "source": []
  },
  {
   "cell_type": "code",
   "execution_count": null,
   "metadata": {},
   "outputs": [],
   "source": []
  },
  {
   "cell_type": "code",
   "execution_count": null,
   "metadata": {},
   "outputs": [],
   "source": []
  },
  {
   "cell_type": "code",
   "execution_count": null,
   "metadata": {},
   "outputs": [],
   "source": [
    "# flatting lists within a dataframe\n",
    "data = {\n",
    "    'ID': ['A', 'B', 'C'],\n",
    "    'items': [['apple', 'banana'], ['carrot', 'daikon'], ['eggplant']]\n",
    "}\n",
    "\n",
    "# create df\n",
    "dfs = pd.DataFrame(data)\n",
    "dfs"
   ]
  },
  {
   "cell_type": "code",
   "execution_count": null,
   "metadata": {
    "id": "OCcFt1ibnT-W"
   },
   "outputs": [],
   "source": []
  }
 ],
 "metadata": {
  "colab": {
   "authorship_tag": "ABX9TyPYLO0zoy2ca6sPxTiWtHyw",
   "provenance": []
  },
  "kernelspec": {
   "display_name": "Python 3 (ipykernel)",
   "language": "python",
   "name": "python3"
  },
  "language_info": {
   "codemirror_mode": {
    "name": "ipython",
    "version": 3
   },
   "file_extension": ".py",
   "mimetype": "text/x-python",
   "name": "python",
   "nbconvert_exporter": "python",
   "pygments_lexer": "ipython3",
   "version": "3.9.7"
  }
 },
 "nbformat": 4,
 "nbformat_minor": 1
}
