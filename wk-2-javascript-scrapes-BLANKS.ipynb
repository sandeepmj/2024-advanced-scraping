{
  "cells": [
    {
      "cell_type": "markdown",
      "source": [
        "## Javascript Dynamic Scrapes\n",
        "\n",
        "Example sites:\n",
        "- <a href=\"https://a816-health.nyc.gov/ABCEatsRestaurants/#!/Search\">Restaurant Inspections</a>\n",
        "- <a href=\"https://www1.nyc.gov/site/doh/health/health-topics/school-cafeteria-inspection-results.page\">School cafeteria Inspections</a>\n",
        "- <a href=\"https://restructuring.primeclerk.com/pge/Home-ClaimInfo\">PG&E bankruptcy claims</a>\n",
        "- <a href=\"https://eportal.miteco.gob.es/BoleHWeb/\">Ministry for the Ecological Transition and the Demographic Challenge</a>\n",
        "\n",
        "Before we even scrape anything, let's find the sources of the sites above."
      ],
      "metadata": {
        "id": "aoUGmP_ubRSF"
      }
    },
    {
      "cell_type": "markdown",
      "source": [
        "## Scrape check cashing site\n",
        "\n",
        "We want all the check cashing locations in New York City.\n",
        "\n",
        "<a href=\"http://www.fscny.org/?controller=licensedlocations\">Financial services check cashing</a>\n",
        "\n",
        "\n"
      ],
      "metadata": {
        "id": "rSStM7JtbXRV"
      }
    },
    {
      "cell_type": "code",
      "source": [
        "## import libraries\n",
        "import requests\n",
        "import pandas as pd\n",
        "from bs4 import BeautifulSoup\n",
        "import time\n",
        "from random import randint"
      ],
      "metadata": {
        "id": "gmwuY_s7biQf"
      },
      "execution_count": null,
      "outputs": []
    },
    {
      "cell_type": "code",
      "source": [],
      "metadata": {
        "id": "l_3pL4wPb_Em"
      },
      "execution_count": null,
      "outputs": []
    }
  ],
  "metadata": {
    "colab": {
      "provenance": []
    },
    "kernelspec": {
      "display_name": "Python 3 (ipykernel)",
      "language": "python",
      "name": "python3"
    },
    "language_info": {
      "codemirror_mode": {
        "name": "ipython",
        "version": 3
      },
      "file_extension": ".py",
      "mimetype": "text/x-python",
      "name": "python",
      "nbconvert_exporter": "python",
      "pygments_lexer": "ipython3",
      "version": "3.9.7"
    }
  },
  "nbformat": 4,
  "nbformat_minor": 0
}