{
 "cells": [
  {
   "cell_type": "markdown",
   "id": "081c496b",
   "metadata": {},
   "source": [
    "## Homework\n",
    "\n",
    "Scrape the first 400 entries from - <a href=\"https://restructuring.primeclerk.com/pge/Home-ClaimInfo\">PG&E bankruptcy claims</a>"
   ]
  },
  {
   "cell_type": "code",
   "execution_count": null,
   "id": "8975df81",
   "metadata": {},
   "outputs": [],
   "source": [
    "## add cells as needed"
   ]
  }
 ],
 "metadata": {
  "kernelspec": {
   "display_name": "Python 3 (ipykernel)",
   "language": "python",
   "name": "python3"
  },
  "language_info": {
   "codemirror_mode": {
    "name": "ipython",
    "version": 3
   },
   "file_extension": ".py",
   "mimetype": "text/x-python",
   "name": "python",
   "nbconvert_exporter": "python",
   "pygments_lexer": "ipython3",
   "version": "3.9.7"
  }
 },
 "nbformat": 4,
 "nbformat_minor": 5
}
