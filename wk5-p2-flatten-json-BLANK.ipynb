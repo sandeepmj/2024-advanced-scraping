{
 "cells": [
  {
   "cell_type": "markdown",
   "metadata": {
    "id": "UqI5EjGAA2rL"
   },
   "source": [
    "# Taming ```JSON ```\n",
    "\n",
    "## Part 2: flattening nested data\n",
    "\n",
    "While JSON, or JavaScript Object Notation, is a widely-used light-weight data storage format, it can be difficult to parse because of its deeply nested logic.\n",
    "\n",
    "Let's explore different ways to flatten nested ```JSON*```.\n",
    "\n",
    "```*``` JSON's versatility makes customization limitless - which also means there is **NO \"one-solution-fit-all\"** and often **no simple solution** to flatten all JSON data in the wild.\n",
    "\n"
   ]
  },
  {
   "cell_type": "code",
   "execution_count": null,
   "metadata": {
    "id": "ivIzGubXA2rM"
   },
   "outputs": [],
   "source": [
    "## import libraries\n",
    "import pandas as pd\n",
    "import requests\n",
    "import json\n"
   ]
  },
  {
   "cell_type": "markdown",
   "metadata": {
    "id": "Ix7nV7JaA2rM"
   },
   "source": [
    "#### Read this simple nested ```JSON``` formatted data:\n"
   ]
  },
  {
   "cell_type": "code",
   "execution_count": null,
   "metadata": {
    "id": "CIHQjM9KA2rN"
   },
   "outputs": [],
   "source": [
    "## run this cell to capture json object in memory\n",
    "json_obj = {\n",
    "  \"publication\": \"Toxic Water Research\",\n",
    "  \"location\": \"Midwest\",\n",
    "  \"reach\": \"Regional\",\n",
    "  \"info\": {\n",
    "    \"editor\": \"Dr. Emily Carter\",\n",
    "    \"contacts\": {\n",
    "      \"email\": {\n",
    "        \"tips\": \"issues@toxicwaterresearch.com\",\n",
    "        \"general\": \"contact@toxicwaterresearch.com\"\n",
    "      },\n",
    "      \"tel\": \"800123456\"\n",
    "    }\n",
    "  }\n",
    "}\n",
    "\n",
    "\n"
   ]
  },
  {
   "cell_type": "code",
   "execution_count": null,
   "metadata": {
    "id": "UxTBjodWA2rN"
   },
   "outputs": [],
   "source": [
    "## type of object\n"
   ]
  },
  {
   "cell_type": "code",
   "execution_count": null,
   "metadata": {
    "id": "5SCGEDkqA2rN"
   },
   "outputs": [],
   "source": [
    "## let's try to turn it directly into a df \n"
   ]
  },
  {
   "cell_type": "markdown",
   "metadata": {
    "id": "wE0N9r06A2rN"
   },
   "source": [
    "## ```json_normalize()```\n",
    "\n",
    "This powerful method helps us flatten nested ```json```.\n",
    "\n",
    "#### Basic Syntax:\n",
    "\n",
    "###### ```pd.json_normalize(list or dictionary)```"
   ]
  },
  {
   "cell_type": "code",
   "execution_count": null,
   "metadata": {
    "id": "n7gowwQJA2rN"
   },
   "outputs": [],
   "source": [
    "#### Normalize json_obj, a single dictionary:\n"
   ]
  },
  {
   "cell_type": "markdown",
   "metadata": {
    "id": "v3n0wvVaA2rN"
   },
   "source": [
    "#### Normalize a list of dictionaries:"
   ]
  },
  {
   "cell_type": "code",
   "execution_count": null,
   "metadata": {
    "id": "ibzIBRsiA2rN"
   },
   "outputs": [],
   "source": [
    "## a list of nested json\n",
    "\n",
    "json_list_obj = [\n",
    "{\n",
    "  \"publication\": \"Toxic Water Research\",\n",
    "  \"location\": \"Midwest\",\n",
    "  \"reach\": \"Regional\",\n",
    "  \"info\": {\n",
    "    \"editor\": \"Dr. Emily Carter\",\n",
    "    \"contacts\": {\n",
    "      \"email\": {\n",
    "        \"tips\": \"issues@toxicwaterresearch.com\",\n",
    "        \"general\": \"contact@toxicwaterresearch.com\"\n",
    "      },\n",
    "      \"tel\": \"800123456\"\n",
    "    }\n",
    "  }\n",
    "},\n",
    "{\n",
    "  \"publication\": \"Chemical Contaminants Review\",\n",
    "  \"location\": \"Northeast\",\n",
    "  \"reach\": \"National\",\n",
    "  \"info\": {\n",
    "    \"editor\": \"Dr. Robert Mason\",\n",
    "    \"contacts\": {\n",
    "      \"email\": {\n",
    "        \"tips\": \"issues@chemcontaminantsreview.com\",\n",
    "        \"general\": \"contact@chemcontaminantsreview.com\"\n",
    "      },\n",
    "      \"tel\": \"800987654\"\n",
    "    }\n",
    "  }\n",
    "}\n",
    "\n",
    "    \n",
    "]"
   ]
  },
  {
   "cell_type": "code",
   "execution_count": null,
   "metadata": {
    "id": "qQKwp1hXA2rN"
   },
   "outputs": [],
   "source": [
    "## type\n"
   ]
  },
  {
   "cell_type": "code",
   "execution_count": null,
   "metadata": {
    "id": "ob-FFtr_A2rN"
   },
   "outputs": [],
   "source": [
    "## turn into a dataframe\n"
   ]
  },
  {
   "cell_type": "code",
   "execution_count": null,
   "metadata": {
    "id": "dXhTGyc0A2rN"
   },
   "outputs": [],
   "source": [
    "## normalize list of dicts\n"
   ]
  },
  {
   "cell_type": "code",
   "execution_count": null,
   "metadata": {
    "id": "lo2ENxt1A2rO"
   },
   "outputs": [],
   "source": [
    "## control the levels into which you want to enter the nest\n"
   ]
  },
  {
   "cell_type": "code",
   "execution_count": null,
   "metadata": {
    "id": "M0TH5_g7pYuN"
   },
   "outputs": [],
   "source": []
  },
  {
   "cell_type": "code",
   "execution_count": null,
   "metadata": {
    "id": "bazgEOkNqHgP"
   },
   "outputs": [],
   "source": [
    "## max level 3\n"
   ]
  },
  {
   "cell_type": "markdown",
   "metadata": {
    "id": "VNSuvKp1A2rO"
   },
   "source": [
    "## Let's deal with nested lists"
   ]
  },
  {
   "cell_type": "markdown",
   "metadata": {
    "id": "y2Zb94W9A2rO"
   },
   "source": [
    "### Deeply nest mock data"
   ]
  },
  {
   "cell_type": "code",
   "execution_count": null,
   "metadata": {
    "id": "62m7oACqA2rO"
   },
   "outputs": [],
   "source": [
    "nested_j = '''\n",
    "{\n",
    "\t\"data\": [{\n",
    "\t\t\t\"fundID\": 1,\n",
    "\t\t\t\"firstName\": \"John\",\n",
    "\t\t\t\"lastName\": \"Smith\",\n",
    "\t\t\t\"categories\": [{\n",
    "\t\t\t\t\"type\": \"hedge\",\n",
    "\t\t\t\t\"description\": \"Get Rich Fast\"\n",
    "\t\t\t}],\n",
    "\t\t\t\"under_investigation\": false\n",
    "\t\t},\n",
    "\t\t{\n",
    "\t\t\t\"fundID\": 2,\n",
    "\t\t\t\"firstName\": \"George\",\n",
    "\t\t\t\"lastName\": \"Santos\",\n",
    "\t\t\t\"categories\": [{\n",
    "\t\t\t\t\"type\": \"hedge\",\n",
    "\t\t\t\t\"description\": \"Ponzi\"\n",
    "\t\t\t}],\n",
    "\t\t\t\"under_investigation\": true\n",
    "\t\t},\n",
    "\t\t{\n",
    "\t\t\t\"fundID\": 3,\n",
    "\t\t\t\"firstName\": \"Sarah\",\n",
    "\t\t\t\"lastName\": \"Kepler\",\n",
    "\t\t\t\"categories\": [{\n",
    "\t\t\t\t\"type\": \"venture\",\n",
    "\t\t\t\t\"description\": \"Angel funding\"\n",
    "\t\t\t}],\n",
    "\t\t\t\"under_investigation\": false\n",
    "\t\t},\n",
    "\t\t{\n",
    "\t\t\t\"fundID\": 4,\n",
    "\t\t\t\"firstName\": \"Liz\",\n",
    "\t\t\t\"lastName\": \"Smith\",\n",
    "\t\t\t\"categories\": [{\n",
    "\t\t\t\t\"type\": \"mutual fund\",\n",
    "\t\t\t\t\"description\": \"slow and steady\"\n",
    "\t\t\t}],\n",
    "\t\t\t\"under_investigation\": false\n",
    "\t\t}\n",
    "\t]\n",
    "}\n",
    "'''"
   ]
  },
  {
   "cell_type": "code",
   "execution_count": null,
   "metadata": {
    "id": "-BAiC1ChsW17"
   },
   "outputs": [],
   "source": [
    "#type of data\n"
   ]
  },
  {
   "cell_type": "code",
   "execution_count": null,
   "metadata": {
    "id": "EH0R-JLMsXAB"
   },
   "outputs": [],
   "source": [
    "## load json into variable\n"
   ]
  },
  {
   "cell_type": "code",
   "execution_count": null,
   "metadata": {
    "id": "7pZJn0dUsXFi"
   },
   "outputs": [],
   "source": [
    "## type of data\n"
   ]
  },
  {
   "cell_type": "code",
   "execution_count": null,
   "metadata": {
    "id": "0iwwIkCusXJv"
   },
   "outputs": [],
   "source": [
    "## try to convert to df using pd.DataFrame\n"
   ]
  },
  {
   "cell_type": "code",
   "execution_count": null,
   "metadata": {
    "id": "26rBXZcmsXNV"
   },
   "outputs": [],
   "source": [
    "## try using pd.json_normalize\n"
   ]
  },
  {
   "cell_type": "markdown",
   "metadata": {
    "id": "Cm_q7LYLA2rO"
   },
   "source": [
    "## ```json_normalize()``` with ```record_path``` parameter\n",
    "\n",
    "A record path taps a level of the nested data\n",
    "\n",
    "####  Single path syntax:\n",
    "\n",
    "###### ```pd.json_normalize(list or dictionary, record_path = \"single_path\")```\n",
    "\n",
    "#### Multiple paths syntax:\n",
    "\n",
    "###### ```pd.json_normalize(list or dictionary, record_path = [\"first_path\", \"second_path\"])```"
   ]
  },
  {
   "cell_type": "code",
   "execution_count": null,
   "metadata": {
    "id": "aA5F_QaBs60p"
   },
   "outputs": [],
   "source": [
    "## add a record path\n"
   ]
  },
  {
   "cell_type": "code",
   "execution_count": null,
   "metadata": {},
   "outputs": [],
   "source": []
  },
  {
   "cell_type": "code",
   "execution_count": null,
   "metadata": {},
   "outputs": [],
   "source": [
    "## provide record path to gun-data\n"
   ]
  },
  {
   "cell_type": "markdown",
   "metadata": {
    "id": "0GsMZ57HA2rO"
   },
   "source": [
    "## ```json_normalize()``` with ```record_path``` and ```meta``` parameters\n",
    "\n",
    "- ```record_path``` specifies where the desired list of records (or rows) is located in the JSON structure. \n",
    "\n",
    "- ```meta``` allows you to include additional columns from higher or sibling levels of the JSON structure\n",
    "\n",
    "####  Syntax:\n",
    "\n",
    " ```pd.json_normalize(list or dictionary, record_path = \"single_path\", meta = [list of meta data items])```\n"
   ]
  },
  {
   "cell_type": "code",
   "execution_count": null,
   "metadata": {},
   "outputs": [],
   "source": [
    "## code here"
   ]
  },
  {
   "cell_type": "markdown",
   "metadata": {
    "id": "pqT572BBA2rO"
   },
   "source": [
    "## Multiple nested data"
   ]
  },
  {
   "cell_type": "code",
   "execution_count": null,
   "metadata": {
    "id": "DeFbvaEYA2rO"
   },
   "outputs": [],
   "source": [
    "data = [\n",
    "\n",
    "\t{\n",
    "\t\t\"kingdom\": \"Animalia\",\n",
    "\t\t\"class\": \"Mammalia\",\n",
    "\t\t\"species\": [{\n",
    "\t\t\t\"scientific_name\": \"Canis Lupus\",\n",
    "\t\t\t\"common_name\": \"Gray Wolf\",\n",
    "\t\t\t\"relations\": [{\n",
    "\t\t\t\t\"domesticated\": False,\n",
    "\t\t\t\t\"social\": True\n",
    "\t\t\t}]\n",
    "\t\t}]\n",
    "\t},\n",
    "\t{\n",
    "\t\t\"kingdom\": \"Animalia\",\n",
    "\t\t\"class\": \"Mammalia\",\n",
    "\t\t\"species\": [{\n",
    "\t\t\t\"scientific_name\": \"Panthera Leo\",\n",
    "\t\t\t\"common_name\": \"Lion\",\n",
    "\t\t\t\"relations\": [{\n",
    "\t\t\t\t\"domesticated\": False,\n",
    "\t\t\t\t\"social\": True\n",
    "\t\t\t}]\n",
    "\t\t}]\n",
    "\t},\n",
    "\n",
    "\t{\n",
    "\t\t\"kingdom\": \"Animalia\",\n",
    "\t\t\"class\": \"Mammalia\",\n",
    "\t\t\"species\": [{\n",
    "\t\t\t\"scientific_name\": \"Panthera Tigris\",\n",
    "\t\t\t\"common_name\": \"Tiger\",\n",
    "\t\t\t\"relations\": [{\n",
    "\t\t\t\t\"domesticated\": False,\n",
    "\t\t\t\t\"social\": False\n",
    "\t\t\t}]\n",
    "\t\t}]\n",
    "\t},\n",
    "\n",
    "\t{\n",
    "\t\t\"kingdom\": \"Animalia\",\n",
    "\t\t\"class\": \"Mammalia\",\n",
    "\t\t\"species\": [{\n",
    "\t\t\t\"scientific_name\": \"Equus ferus\",\n",
    "\t\t\t\"common_name\": \"Horse\",\n",
    "\t\t\t\"relations\": [{\n",
    "\t\t\t\t\"domesticated\": True,\n",
    "\t\t\t\t\"social\": True\n",
    "\t\t\t}]\n",
    "\t\t}]\n",
    "\t}\n",
    "]"
   ]
  },
  {
   "cell_type": "code",
   "execution_count": null,
   "metadata": {
    "id": "253hfUWiA2rO"
   },
   "outputs": [],
   "source": [
    "## get top keys\n"
   ]
  },
  {
   "cell_type": "code",
   "execution_count": null,
   "metadata": {
    "id": "1pUETM8NA2rP"
   },
   "outputs": [],
   "source": [
    "## dig deeper to find what relations holds\n"
   ]
  },
  {
   "cell_type": "code",
   "execution_count": null,
   "metadata": {
    "id": "mDDhgt7YA2rP"
   },
   "outputs": [],
   "source": [
    "## in the first dict, tap species to see what that key holds\n"
   ]
  },
  {
   "cell_type": "code",
   "execution_count": null,
   "metadata": {
    "id": "0ZrjNwoxA2rP"
   },
   "outputs": [],
   "source": [
    "## what happens if we straight up normalize\n"
   ]
  },
  {
   "cell_type": "code",
   "execution_count": null,
   "metadata": {
    "id": "2S1UGtz-A2rP"
   },
   "outputs": [],
   "source": [
    "## provide record_paths to species\n"
   ]
  },
  {
   "cell_type": "code",
   "execution_count": null,
   "metadata": {},
   "outputs": [],
   "source": [
    "## subs\n"
   ]
  },
  {
   "cell_type": "code",
   "execution_count": null,
   "metadata": {
    "id": "QpIcKUyTA2rP"
   },
   "outputs": [],
   "source": [
    "## pass multiple record paths\n"
   ]
  },
  {
   "cell_type": "code",
   "execution_count": null,
   "metadata": {},
   "outputs": [],
   "source": [
    "## pass meta data to it\n"
   ]
  },
  {
   "cell_type": "markdown",
   "metadata": {
    "id": "fOY_fQZIA2rP"
   },
   "source": [
    "### Super deeply nested data"
   ]
  },
  {
   "cell_type": "code",
   "execution_count": null,
   "metadata": {
    "id": "LwCsZU_NA2rP"
   },
   "outputs": [],
   "source": [
    "## add another layer\n",
    "## note that within species, there are now two lists of dicts\n",
    "\n",
    "data = [\n",
    "\n",
    "\t{\n",
    "\t\t\"kingdom\": \"Animalia\",\n",
    "\t\t\"class\": \"Mammalia\",\n",
    "\t\t\"species\": [{\n",
    "\t\t\t\"scientific_name\": \"Canis Lupus\",\n",
    "\t\t\t\"common_name\": \"Gray Wolf\",\n",
    "\t\t\t\"relations\": [{\n",
    "\t\t\t\t\"domesticated\": False,\n",
    "\t\t\t\t\"social\": True\n",
    "\t\t\t}],\n",
    "\t\t\t\"characteristics\": [{\n",
    "\t\t\t\t\"color\": \"Gray\",\n",
    "\t\t\t\t\"carnivore\": True\n",
    "\t\t\t}]\n",
    "\t\t}]\n",
    "\t},\n",
    "\t{\n",
    "\t\t\"kingdom\": \"Animalia\",\n",
    "\t\t\"class\": \"Mammalia\",\n",
    "\t\t\"species\": [{\n",
    "\t\t\t\"scientific_name\": \"Panthera Leo\",\n",
    "\t\t\t\"common_name\": \"Lion\",\n",
    "\t\t\t\"relations\": [{\n",
    "\t\t\t\t\"domesticated\": False,\n",
    "\t\t\t\t\"social\": True\n",
    "\t\t\t}],\n",
    "\t\t\t\"characteristics\": [{\n",
    "\t\t\t\t\"color\": \"Yellow\",\n",
    "\t\t\t\t\"carnivore\": True\n",
    "\t\t\t}]\n",
    "\t\t}]\n",
    "\t},\n",
    "\n",
    "\t{\n",
    "\t\t\"kingdom\": \"Animalia\",\n",
    "\t\t\"class\": \"Mammalia\",\n",
    "\t\t\"species\": [{\n",
    "\t\t\t\"scientific_name\": \"Panthera Tigris\",\n",
    "\t\t\t\"common_name\": \"Tiger\",\n",
    "\t\t\t\"relations\": [{\n",
    "\t\t\t\t\"domesticated\": False,\n",
    "\t\t\t\t\"social\": False\n",
    "\t\t\t}],\n",
    "\t\t\t\"characteristics\": [{\n",
    "\t\t\t\t\"color\": \"Striped\",\n",
    "\t\t\t\t\"carnivore\": True\n",
    "\t\t\t}]\n",
    "\t\t}]\n",
    "\t},\n",
    "\n",
    "\t{\n",
    "\t\t\"kingdom\": \"Animalia\",\n",
    "\t\t\"class\": \"Mammalia\",\n",
    "\t\t\"species\": [{\n",
    "\t\t\t\"scientific_name\": \"Equus Ferus\",\n",
    "\t\t\t\"common_name\": \"Horse\",\n",
    "\t\t\t\"relations\": [{\n",
    "\t\t\t\t\"domesticated\": True,\n",
    "\t\t\t\t\"social\": True\n",
    "\t\t\t}],\n",
    "\t\t\t\"characteristics\": [{\n",
    "\t\t\t\t\"color\": \"Multiple\",\n",
    "\t\t\t\t\"carnivore\": False\n",
    "\t\t\t}]\n",
    "\t\t}]\n",
    "\t}\n",
    "]"
   ]
  },
  {
   "cell_type": "code",
   "execution_count": null,
   "metadata": {
    "id": "7AFUoKetA2rP"
   },
   "outputs": [],
   "source": [
    "## run json normalize on species\n"
   ]
  },
  {
   "cell_type": "code",
   "execution_count": null,
   "metadata": {
    "id": "hsGb1yYeA2rP"
   },
   "outputs": [],
   "source": [
    "## provide species as path\n"
   ]
  },
  {
   "cell_type": "code",
   "execution_count": null,
   "metadata": {},
   "outputs": [],
   "source": [
    "## provide species and characteristics as record_path\n"
   ]
  },
  {
   "cell_type": "code",
   "execution_count": null,
   "metadata": {},
   "outputs": [],
   "source": [
    "## provide species and relations as record_path\n"
   ]
  },
  {
   "cell_type": "code",
   "execution_count": null,
   "metadata": {
    "id": "GXvJigniA2rP"
   },
   "outputs": [],
   "source": [
    "## provide add characteristics to the record_path\n",
    "## WILL BREAK!\n"
   ]
  },
  {
   "cell_type": "markdown",
   "metadata": {
    "id": "QhR3z5k2A2rP"
   },
   "source": [
    "## The limitations of ```json_normalize()```\n",
    "\n",
    "The reality is that ```JSON``` is far to versatile and flexible for ```json_normalize()``` to work in every situation. ```json_normalize()``` is just NOT a universal parser and won't work in one go for every complex situation.\n",
    "\n",
    "Our approach: create two data frames and merge them on a common column."
   ]
  },
  {
   "cell_type": "code",
   "execution_count": null,
   "metadata": {
    "id": "eVqNAOuBA2rP"
   },
   "outputs": [],
   "source": [
    "## create a df for characteristics\n"
   ]
  },
  {
   "cell_type": "code",
   "execution_count": null,
   "metadata": {
    "id": "8ur3cIF2A2rP"
   },
   "outputs": [],
   "source": [
    "## create a df for relations\n",
    "## note we need few meta data, just enough to find a common colum.\n"
   ]
  },
  {
   "cell_type": "code",
   "execution_count": null,
   "metadata": {
    "id": "7PpEi06yA2rP"
   },
   "outputs": [],
   "source": [
    "## merge the two\n"
   ]
  },
  {
   "cell_type": "markdown",
   "metadata": {
    "id": "pa58hK21A2rP"
   },
   "source": [
    "### Global Covid Data (Nested Json from url)"
   ]
  },
  {
   "cell_type": "code",
   "execution_count": null,
   "metadata": {
    "id": "nAGIpg1SA2rP"
   },
   "outputs": [],
   "source": [
    "## request data\n",
    "url = \"https://epicovcharts.bii.a-star.edu.sg/variants-dashboard/data/variants_countries_count.json\"\n"
   ]
  },
  {
   "cell_type": "code",
   "execution_count": null,
   "metadata": {
    "id": "Gol-GOBwA2rP"
   },
   "outputs": [],
   "source": [
    "## load json\n"
   ]
  },
  {
   "cell_type": "code",
   "execution_count": null,
   "metadata": {
    "id": "sUVwi8D4A2rP"
   },
   "outputs": [],
   "source": [
    "## call data\n"
   ]
  },
  {
   "cell_type": "code",
   "execution_count": null,
   "metadata": {
    "id": "xcyc3ttGA2rP"
   },
   "outputs": [],
   "source": [
    "## get our bearings\n"
   ]
  },
  {
   "cell_type": "code",
   "execution_count": null,
   "metadata": {
    "id": "AJF51VkJA2rP"
   },
   "outputs": [],
   "source": [
    "## get our bearings\n"
   ]
  },
  {
   "cell_type": "code",
   "execution_count": null,
   "metadata": {
    "id": "3p1eVvaPA2rP"
   },
   "outputs": [],
   "source": [
    "## get our bearings\n"
   ]
  },
  {
   "cell_type": "code",
   "execution_count": null,
   "metadata": {
    "id": "6uag7rn7A2rQ"
   },
   "outputs": [],
   "source": [
    "## flatten json into df\n"
   ]
  },
  {
   "cell_type": "markdown",
   "metadata": {
    "id": "ImrBZNdTASB0"
   },
   "source": [
    "## AP Election Data\n",
    "\n",
    "The Associated Press election feed provides wickedly nested election data.\n",
    "\n",
    "[Download an excerpt](https://raw.githubusercontent.com/sandeepmj/datasets/main/va-election-AP.json) and flatten all nested elements.\n",
    "\n",
    "At Bloomberg, we flattened this data using the techiques covered in this course.\n",
    "\n"
   ]
  },
  {
   "cell_type": "code",
   "execution_count": null,
   "metadata": {
    "id": "ppBT-d7vJbf4"
   },
   "outputs": [],
   "source": [
    "## create more cells as necessary"
   ]
  }
 ],
 "metadata": {
  "colab": {
   "provenance": []
  },
  "kernelspec": {
   "display_name": "Python 3 (ipykernel)",
   "language": "python",
   "name": "python3"
  },
  "language_info": {
   "codemirror_mode": {
    "name": "ipython",
    "version": 3
   },
   "file_extension": ".py",
   "mimetype": "text/x-python",
   "name": "python",
   "nbconvert_exporter": "python",
   "pygments_lexer": "ipython3",
   "version": "3.12.2"
  }
 },
 "nbformat": 4,
 "nbformat_minor": 4
}
