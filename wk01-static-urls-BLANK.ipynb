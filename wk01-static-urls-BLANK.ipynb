{
 "cells": [
  {
   "cell_type": "markdown",
   "id": "aba5dc0c",
   "metadata": {},
   "source": [
    "# Scraping a fixed URL site\n",
    "\n",
    "We'll often encounter website where the url never changes. Here are a few examples: \n",
    "\n",
    "- <a href=\"https://eportal.miteco.gob.es/BoleHWeb/\">Ministry for the Ecological Transition and the Demographic Challenge</a>.\n",
    "- <a href=\"https://www.seethroughny.net/\">See Through NY</a> \n",
    "- <a href=\"https://restructuring.ra.kroll.com/pge/Home-ClaimInfo\">PG&E fire victim creditors</a>\n",
    "\n",
    "From <a href=\"https://infopost.enbridge.com/InfoPost/\">this homepage</a>, we want to scrape the critical notices for the Algonquin Gas Transmission.\n",
    "\n",
    "Let's explore the site to come up with our scrape strategy."
   ]
  },
  {
   "cell_type": "code",
   "execution_count": null,
   "id": "3505bc15",
   "metadata": {},
   "outputs": [],
   "source": []
  }
 ],
 "metadata": {
  "kernelspec": {
   "display_name": "Python 3 (ipykernel)",
   "language": "python",
   "name": "python3"
  },
  "language_info": {
   "codemirror_mode": {
    "name": "ipython",
    "version": 3
   },
   "file_extension": ".py",
   "mimetype": "text/x-python",
   "name": "python",
   "nbconvert_exporter": "python",
   "pygments_lexer": "ipython3",
   "version": "3.9.7"
  }
 },
 "nbformat": 4,
 "nbformat_minor": 5
}
