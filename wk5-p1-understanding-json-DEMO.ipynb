{
 "cells": [
  {
   "cell_type": "markdown",
   "metadata": {
    "id": "RRz9vYvOK4Iv"
   },
   "source": [
    "# Taming JSON\n",
    "\n",
    "## Part 1 - reading\n",
    "\n",
    "JSON, or JavaScript Object Notation, is a light-weight data storage format that is now the most prevalent way that information is held in databases and web applications – data that is often critical to our reporting. At the same time JSON can be difficult to parse because of its deeply nested logic.\n",
    "\n",
    "Let's study a few JSON files to understand their structure."
   ]
  },
  {
   "cell_type": "markdown",
   "metadata": {
    "id": "N7tn9lvSK4Iy"
   },
   "source": [
    "## Types of JSON objects"
   ]
  },
  {
   "cell_type": "markdown",
   "metadata": {
    "id": "7P1qv7ryK4Iy"
   },
   "source": [
    "### Large but Easy (and in a file)\n",
    "\n",
    "<a href=\"https://raw.githubusercontent.com/sandeepmj/datasets/main/guns.json\">Download</a>: ```guns.json```\n",
    "\n",
    "<a href=\"https://raw.githubusercontent.com/sandeepmj/datasets/main/gun-data-in-json-file.json\">Download:</a> ```gun-data-in-json-file.json```\n",
    "\n",
    "<a href=\"https://raw.githubusercontent.com/sandeepmj/datasets/main/countries.json\">Download</a>: ```countries.json```\n",
    "\n",
    "What's the difference between these two files?"
   ]
  },
  {
   "cell_type": "markdown",
   "metadata": {
    "id": "S9GyZDjyK4Iz"
   },
   "source": [
    "#### Small but Complex (in your notebook):"
   ]
  },
  {
   "cell_type": "code",
   "execution_count": 1,
   "metadata": {},
   "outputs": [
    {
     "data": {
      "text/plain": [
       "[{'study': 'Toxic Water Research',\n",
       "  'region': 'Midwest',\n",
       "  'scope': 'Regional',\n",
       "  'details': {'lead_scientist': 'Dr. Emily Carter',\n",
       "   'contacts': {'email': {'report_issues': 'issues@toxicwaterresearch.com',\n",
       "     'inquiries': 'contact@toxicwaterresearch.com'},\n",
       "    'phone': '800123456'}}},\n",
       " {'study': 'Chemical Contaminants Review',\n",
       "  'region': 'Northeast',\n",
       "  'scope': 'National',\n",
       "  'details': {'lead_scientist': 'Dr. Robert Mason',\n",
       "   'contacts': {'email': {'report_issues': 'issues@chemcontaminantsreview.com',\n",
       "     'inquiries': 'contact@chemcontaminantsreview.com'},\n",
       "    'phone': '800987654'}}}]"
      ]
     },
     "execution_count": 1,
     "metadata": {},
     "output_type": "execute_result"
    }
   ],
   "source": [
    "## run this MOCK data cell:\n",
    "\n",
    "[\n",
    "  {\n",
    "    \"study\": \"Toxic Water Research\",\n",
    "    \"region\": \"Midwest\",\n",
    "    \"scope\": \"Regional\",\n",
    "    \"details\": {\n",
    "      \"lead_scientist\": \"Dr. Emily Carter\",\n",
    "      \"contacts\": {\n",
    "        \"email\": {\n",
    "          \"report_issues\": \"issues@toxicwaterresearch.com\",\n",
    "          \"inquiries\": \"contact@toxicwaterresearch.com\"\n",
    "        },\n",
    "        \"phone\": \"800123456\"\n",
    "      }\n",
    "    }\n",
    "  },\n",
    "  {\n",
    "    \"study\": \"Chemical Contaminants Review\",\n",
    "    \"region\": \"Northeast\",\n",
    "    \"scope\": \"National\",\n",
    "    \"details\": {\n",
    "      \"lead_scientist\": \"Dr. Robert Mason\",\n",
    "      \"contacts\": {\n",
    "        \"email\": {\n",
    "          \"report_issues\": \"issues@chemcontaminantsreview.com\",\n",
    "          \"inquiries\": \"contact@chemcontaminantsreview.com\"\n",
    "        },\n",
    "        \"phone\": \"800987654\"\n",
    "      }\n",
    "    }\n",
    "  }\n",
    "]\n"
   ]
  },
  {
   "cell_type": "markdown",
   "metadata": {
    "id": "UpO_TAyUK4I0"
   },
   "source": [
    "#### Massive and Nested (and on a server)\n",
    "\n",
    "<a href=\"https://epicovcharts.bii.a-star.edu.sg/variants-dashboard/data/variants_countries_count.json\">Global COVID data</a>"
   ]
  },
  {
   "cell_type": "markdown",
   "metadata": {
    "id": "KFmMfWqSK4I0"
   },
   "source": [
    "## Reading JSON objects"
   ]
  },
  {
   "cell_type": "code",
   "execution_count": 2,
   "metadata": {
    "id": "_gQFZZemK4I0"
   },
   "outputs": [],
   "source": [
    "## import libraries\n",
    "import pandas as pd\n"
   ]
  },
  {
   "cell_type": "markdown",
   "metadata": {
    "id": "o9bGBnZHK4I1"
   },
   "source": [
    "### Read ```JSON``` file\n",
    "\n",
    "#### Sometimes, we are in luck with a cleanly packaged ```JSON``` file that is not nested and plays nice.\n",
    "\n",
    "All we need is ```pd.read_json(\"file_path\")```"
   ]
  },
  {
   "cell_type": "code",
   "execution_count": 4,
   "metadata": {
    "id": "lnI5__RTK4I1"
   },
   "outputs": [
    {
     "data": {
      "text/html": [
       "<div>\n",
       "<style scoped>\n",
       "    .dataframe tbody tr th:only-of-type {\n",
       "        vertical-align: middle;\n",
       "    }\n",
       "\n",
       "    .dataframe tbody tr th {\n",
       "        vertical-align: top;\n",
       "    }\n",
       "\n",
       "    .dataframe thead th {\n",
       "        text-align: right;\n",
       "    }\n",
       "</style>\n",
       "<table border=\"1\" class=\"dataframe\">\n",
       "  <thead>\n",
       "    <tr style=\"text-align: right;\">\n",
       "      <th></th>\n",
       "      <th>occur_year</th>\n",
       "      <th>boro</th>\n",
       "      <th>precinct</th>\n",
       "      <th>statistical_murder_flag</th>\n",
       "      <th>vic_age_group</th>\n",
       "      <th>vic_sex</th>\n",
       "      <th>vic_race</th>\n",
       "    </tr>\n",
       "  </thead>\n",
       "  <tbody>\n",
       "    <tr>\n",
       "      <th>0</th>\n",
       "      <td>2006</td>\n",
       "      <td>The Bronx</td>\n",
       "      <td>41</td>\n",
       "      <td>No</td>\n",
       "      <td>25-44</td>\n",
       "      <td>Male</td>\n",
       "      <td>White Hispanic</td>\n",
       "    </tr>\n",
       "    <tr>\n",
       "      <th>1</th>\n",
       "      <td>2006</td>\n",
       "      <td>Manhattan</td>\n",
       "      <td>34</td>\n",
       "      <td>No</td>\n",
       "      <td>18-24</td>\n",
       "      <td>Male</td>\n",
       "      <td>White Hispanic</td>\n",
       "    </tr>\n",
       "    <tr>\n",
       "      <th>2</th>\n",
       "      <td>2006</td>\n",
       "      <td>Manhattan</td>\n",
       "      <td>34</td>\n",
       "      <td>No</td>\n",
       "      <td>18-24</td>\n",
       "      <td>Male</td>\n",
       "      <td>White Hispanic</td>\n",
       "    </tr>\n",
       "    <tr>\n",
       "      <th>3</th>\n",
       "      <td>2006</td>\n",
       "      <td>The Bronx</td>\n",
       "      <td>44</td>\n",
       "      <td>No</td>\n",
       "      <td>18-24</td>\n",
       "      <td>Female</td>\n",
       "      <td>White Hispanic</td>\n",
       "    </tr>\n",
       "    <tr>\n",
       "      <th>4</th>\n",
       "      <td>2006</td>\n",
       "      <td>Brooklyn</td>\n",
       "      <td>81</td>\n",
       "      <td>No</td>\n",
       "      <td>25-44</td>\n",
       "      <td>Male</td>\n",
       "      <td>Black</td>\n",
       "    </tr>\n",
       "    <tr>\n",
       "      <th>...</th>\n",
       "      <td>...</td>\n",
       "      <td>...</td>\n",
       "      <td>...</td>\n",
       "      <td>...</td>\n",
       "      <td>...</td>\n",
       "      <td>...</td>\n",
       "      <td>...</td>\n",
       "    </tr>\n",
       "    <tr>\n",
       "      <th>20654</th>\n",
       "      <td>2018</td>\n",
       "      <td>Queens</td>\n",
       "      <td>103</td>\n",
       "      <td>No</td>\n",
       "      <td>25-44</td>\n",
       "      <td>Male</td>\n",
       "      <td>White</td>\n",
       "    </tr>\n",
       "    <tr>\n",
       "      <th>20655</th>\n",
       "      <td>2018</td>\n",
       "      <td>Brooklyn</td>\n",
       "      <td>70</td>\n",
       "      <td>No</td>\n",
       "      <td>18-24</td>\n",
       "      <td>Male</td>\n",
       "      <td>Black</td>\n",
       "    </tr>\n",
       "    <tr>\n",
       "      <th>20656</th>\n",
       "      <td>2018</td>\n",
       "      <td>Brooklyn</td>\n",
       "      <td>70</td>\n",
       "      <td>No</td>\n",
       "      <td>25-44</td>\n",
       "      <td>Male</td>\n",
       "      <td>Black</td>\n",
       "    </tr>\n",
       "    <tr>\n",
       "      <th>20657</th>\n",
       "      <td>2018</td>\n",
       "      <td>Brooklyn</td>\n",
       "      <td>73</td>\n",
       "      <td>No</td>\n",
       "      <td>25-44</td>\n",
       "      <td>Male</td>\n",
       "      <td>Black</td>\n",
       "    </tr>\n",
       "    <tr>\n",
       "      <th>20658</th>\n",
       "      <td>2018</td>\n",
       "      <td>The Bronx</td>\n",
       "      <td>40</td>\n",
       "      <td>No</td>\n",
       "      <td>25-44</td>\n",
       "      <td>Male</td>\n",
       "      <td>Black</td>\n",
       "    </tr>\n",
       "  </tbody>\n",
       "</table>\n",
       "<p>20659 rows × 7 columns</p>\n",
       "</div>"
      ],
      "text/plain": [
       "       occur_year       boro  precinct statistical_murder_flag vic_age_group  \\\n",
       "0            2006  The Bronx        41                      No         25-44   \n",
       "1            2006  Manhattan        34                      No         18-24   \n",
       "2            2006  Manhattan        34                      No         18-24   \n",
       "3            2006  The Bronx        44                      No         18-24   \n",
       "4            2006   Brooklyn        81                      No         25-44   \n",
       "...           ...        ...       ...                     ...           ...   \n",
       "20654        2018     Queens       103                      No         25-44   \n",
       "20655        2018   Brooklyn        70                      No         18-24   \n",
       "20656        2018   Brooklyn        70                      No         25-44   \n",
       "20657        2018   Brooklyn        73                      No         25-44   \n",
       "20658        2018  The Bronx        40                      No         25-44   \n",
       "\n",
       "      vic_sex        vic_race  \n",
       "0        Male  White Hispanic  \n",
       "1        Male  White Hispanic  \n",
       "2        Male  White Hispanic  \n",
       "3      Female  White Hispanic  \n",
       "4        Male           Black  \n",
       "...       ...             ...  \n",
       "20654    Male           White  \n",
       "20655    Male           Black  \n",
       "20656    Male           Black  \n",
       "20657    Male           Black  \n",
       "20658    Male           Black  \n",
       "\n",
       "[20659 rows x 7 columns]"
      ]
     },
     "execution_count": 4,
     "metadata": {},
     "output_type": "execute_result"
    }
   ],
   "source": [
    "## these files can be read right into a df\n",
    "df = pd.read_json(\"guns.json\")\n",
    "df"
   ]
  },
  {
   "cell_type": "markdown",
   "metadata": {
    "id": "H6V-MkayK4I1"
   },
   "source": [
    "#### ... and easily exported as a csv file:"
   ]
  },
  {
   "cell_type": "code",
   "execution_count": 5,
   "metadata": {
    "id": "6h1uiPVnK4I1"
   },
   "outputs": [],
   "source": [
    "## export as csv file\n",
    "df.to_csv(\"guns.csv\", encoding = \"UTF-8\", index = False)"
   ]
  },
  {
   "cell_type": "markdown",
   "metadata": {
    "id": "xIgK2gVIK4I1"
   },
   "source": [
    "### What about this file:\n",
    "\n",
    "```gun-data-in-json-file.json```"
   ]
  },
  {
   "cell_type": "code",
   "execution_count": 6,
   "metadata": {
    "id": "Jgxo3UZDK4I1"
   },
   "outputs": [
    {
     "data": {
      "text/html": [
       "<div>\n",
       "<style scoped>\n",
       "    .dataframe tbody tr th:only-of-type {\n",
       "        vertical-align: middle;\n",
       "    }\n",
       "\n",
       "    .dataframe tbody tr th {\n",
       "        vertical-align: top;\n",
       "    }\n",
       "\n",
       "    .dataframe thead th {\n",
       "        text-align: right;\n",
       "    }\n",
       "</style>\n",
       "<table border=\"1\" class=\"dataframe\">\n",
       "  <thead>\n",
       "    <tr style=\"text-align: right;\">\n",
       "      <th></th>\n",
       "      <th>gun-data</th>\n",
       "    </tr>\n",
       "  </thead>\n",
       "  <tbody>\n",
       "    <tr>\n",
       "      <th>0</th>\n",
       "      <td>{'occur_year': '2006', 'boro': 'The Bronx', 'p...</td>\n",
       "    </tr>\n",
       "    <tr>\n",
       "      <th>1</th>\n",
       "      <td>{'occur_year': '2006', 'boro': 'Manhattan', 'p...</td>\n",
       "    </tr>\n",
       "    <tr>\n",
       "      <th>2</th>\n",
       "      <td>{'occur_year': '2006', 'boro': 'Manhattan', 'p...</td>\n",
       "    </tr>\n",
       "    <tr>\n",
       "      <th>3</th>\n",
       "      <td>{'occur_year': '2006', 'boro': 'The Bronx', 'p...</td>\n",
       "    </tr>\n",
       "  </tbody>\n",
       "</table>\n",
       "</div>"
      ],
      "text/plain": [
       "                                            gun-data\n",
       "0  {'occur_year': '2006', 'boro': 'The Bronx', 'p...\n",
       "1  {'occur_year': '2006', 'boro': 'Manhattan', 'p...\n",
       "2  {'occur_year': '2006', 'boro': 'Manhattan', 'p...\n",
       "3  {'occur_year': '2006', 'boro': 'The Bronx', 'p..."
      ]
     },
     "execution_count": 6,
     "metadata": {},
     "output_type": "execute_result"
    }
   ],
   "source": [
    "## READ into df\n",
    "df = pd.read_json(\"gun-data-in-json-file.json\")\n",
    "df"
   ]
  },
  {
   "cell_type": "markdown",
   "metadata": {
    "id": "rH7icr8OK4I2"
   },
   "source": [
    "## ```json.load()``` v. ```json.loads()```\n",
    "\n",
    "The ```json``` package has two similarly named methods that each do something quite different:\n",
    "\n",
    "- ```.load()``` creates a ```Python Dictionary``` from a **```json``` file.**\n",
    "- ```.loads()``` creates a ```Python Dictionary``` from a **```json``` string**."
   ]
  },
  {
   "cell_type": "code",
   "execution_count": 7,
   "metadata": {
    "id": "G82ofoLJK4I2"
   },
   "outputs": [],
   "source": [
    "## import python's json package\n",
    "import json"
   ]
  },
  {
   "cell_type": "markdown",
   "metadata": {
    "id": "3OtNPz1dK4I2"
   },
   "source": [
    "#### Import ```json``` file"
   ]
  },
  {
   "cell_type": "code",
   "execution_count": 14,
   "metadata": {
    "id": "7aV2QZE7K4I2"
   },
   "outputs": [
    {
     "data": {
      "text/plain": [
       "{'gun-data': [{'occur_year': '2006',\n",
       "   'boro': 'The Bronx',\n",
       "   'precinct': 41,\n",
       "   'statistical_murder_flag': 'No',\n",
       "   'vic_age_group': '25-44',\n",
       "   'vic_sex': 'Male',\n",
       "   'vic_race': 'White Hispanic'},\n",
       "  {'occur_year': '2006',\n",
       "   'boro': 'Manhattan',\n",
       "   'precinct': 34,\n",
       "   'statistical_murder_flag': 'No',\n",
       "   'vic_age_group': '18-24',\n",
       "   'vic_sex': 'Male',\n",
       "   'vic_race': 'White Hispanic'},\n",
       "  {'occur_year': '2006',\n",
       "   'boro': 'Manhattan',\n",
       "   'precinct': 34,\n",
       "   'statistical_murder_flag': 'No',\n",
       "   'vic_age_group': '18-24',\n",
       "   'vic_sex': 'Male',\n",
       "   'vic_race': 'White Hispanic'},\n",
       "  {'occur_year': '2006',\n",
       "   'boro': 'The Bronx',\n",
       "   'precinct': 44,\n",
       "   'statistical_murder_flag': 'No',\n",
       "   'vic_age_group': '18-24',\n",
       "   'vic_sex': 'Female',\n",
       "   'vic_race': 'White Hispanic'}]}"
      ]
     },
     "execution_count": 14,
     "metadata": {},
     "output_type": "execute_result"
    }
   ],
   "source": [
    "## open and load json file\n",
    "with open(\"gun-data-in-json-file.json\", \"r\") as j:\n",
    "    gun_data_converted = json.load(j)\n",
    "\n",
    "gun_data_converted"
   ]
  },
  {
   "cell_type": "code",
   "execution_count": 9,
   "metadata": {},
   "outputs": [
    {
     "data": {
      "text/plain": [
       "_io.TextIOWrapper"
      ]
     },
     "execution_count": 9,
     "metadata": {},
     "output_type": "execute_result"
    }
   ],
   "source": [
    "## type object\n",
    "type(j)"
   ]
  },
  {
   "cell_type": "code",
   "execution_count": 15,
   "metadata": {},
   "outputs": [
    {
     "data": {
      "text/plain": [
       "dict"
      ]
     },
     "execution_count": 15,
     "metadata": {},
     "output_type": "execute_result"
    }
   ],
   "source": [
    "## type variable\n",
    "type(gun_data_converted)"
   ]
  },
  {
   "cell_type": "code",
   "execution_count": 16,
   "metadata": {},
   "outputs": [
    {
     "data": {
      "text/html": [
       "<div>\n",
       "<style scoped>\n",
       "    .dataframe tbody tr th:only-of-type {\n",
       "        vertical-align: middle;\n",
       "    }\n",
       "\n",
       "    .dataframe tbody tr th {\n",
       "        vertical-align: top;\n",
       "    }\n",
       "\n",
       "    .dataframe thead th {\n",
       "        text-align: right;\n",
       "    }\n",
       "</style>\n",
       "<table border=\"1\" class=\"dataframe\">\n",
       "  <thead>\n",
       "    <tr style=\"text-align: right;\">\n",
       "      <th></th>\n",
       "      <th>gun-data</th>\n",
       "    </tr>\n",
       "  </thead>\n",
       "  <tbody>\n",
       "    <tr>\n",
       "      <th>0</th>\n",
       "      <td>{'occur_year': '2006', 'boro': 'The Bronx', 'p...</td>\n",
       "    </tr>\n",
       "    <tr>\n",
       "      <th>1</th>\n",
       "      <td>{'occur_year': '2006', 'boro': 'Manhattan', 'p...</td>\n",
       "    </tr>\n",
       "    <tr>\n",
       "      <th>2</th>\n",
       "      <td>{'occur_year': '2006', 'boro': 'Manhattan', 'p...</td>\n",
       "    </tr>\n",
       "    <tr>\n",
       "      <th>3</th>\n",
       "      <td>{'occur_year': '2006', 'boro': 'The Bronx', 'p...</td>\n",
       "    </tr>\n",
       "  </tbody>\n",
       "</table>\n",
       "</div>"
      ],
      "text/plain": [
       "                                            gun-data\n",
       "0  {'occur_year': '2006', 'boro': 'The Bronx', 'p...\n",
       "1  {'occur_year': '2006', 'boro': 'Manhattan', 'p...\n",
       "2  {'occur_year': '2006', 'boro': 'Manhattan', 'p...\n",
       "3  {'occur_year': '2006', 'boro': 'The Bronx', 'p..."
      ]
     },
     "execution_count": 16,
     "metadata": {},
     "output_type": "execute_result"
    }
   ],
   "source": [
    "## turn into df\n",
    "df = pd.DataFrame(gun_data_converted)\n",
    "df"
   ]
  },
  {
   "cell_type": "code",
   "execution_count": 17,
   "metadata": {
    "id": "A68SAQgRK4I2"
   },
   "outputs": [
    {
     "data": {
      "text/plain": [
       "dict_keys(['gun-data'])"
      ]
     },
     "execution_count": 17,
     "metadata": {},
     "output_type": "execute_result"
    }
   ],
   "source": [
    "## call the keys\n",
    "gun_data_converted.keys()"
   ]
  },
  {
   "cell_type": "code",
   "execution_count": 19,
   "metadata": {},
   "outputs": [
    {
     "data": {
      "text/plain": [
       "[{'occur_year': '2006',\n",
       "  'boro': 'The Bronx',\n",
       "  'precinct': 41,\n",
       "  'statistical_murder_flag': 'No',\n",
       "  'vic_age_group': '25-44',\n",
       "  'vic_sex': 'Male',\n",
       "  'vic_race': 'White Hispanic'},\n",
       " {'occur_year': '2006',\n",
       "  'boro': 'Manhattan',\n",
       "  'precinct': 34,\n",
       "  'statistical_murder_flag': 'No',\n",
       "  'vic_age_group': '18-24',\n",
       "  'vic_sex': 'Male',\n",
       "  'vic_race': 'White Hispanic'},\n",
       " {'occur_year': '2006',\n",
       "  'boro': 'Manhattan',\n",
       "  'precinct': 34,\n",
       "  'statistical_murder_flag': 'No',\n",
       "  'vic_age_group': '18-24',\n",
       "  'vic_sex': 'Male',\n",
       "  'vic_race': 'White Hispanic'},\n",
       " {'occur_year': '2006',\n",
       "  'boro': 'The Bronx',\n",
       "  'precinct': 44,\n",
       "  'statistical_murder_flag': 'No',\n",
       "  'vic_age_group': '18-24',\n",
       "  'vic_sex': 'Female',\n",
       "  'vic_race': 'White Hispanic'}]"
      ]
     },
     "execution_count": 19,
     "metadata": {},
     "output_type": "execute_result"
    }
   ],
   "source": [
    "## get key\n",
    "target_data = gun_data_converted.get(\"gun-data\")\n",
    "target_data"
   ]
  },
  {
   "cell_type": "code",
   "execution_count": 20,
   "metadata": {
    "id": "xb73QgOHK4I2"
   },
   "outputs": [
    {
     "data": {
      "text/html": [
       "<div>\n",
       "<style scoped>\n",
       "    .dataframe tbody tr th:only-of-type {\n",
       "        vertical-align: middle;\n",
       "    }\n",
       "\n",
       "    .dataframe tbody tr th {\n",
       "        vertical-align: top;\n",
       "    }\n",
       "\n",
       "    .dataframe thead th {\n",
       "        text-align: right;\n",
       "    }\n",
       "</style>\n",
       "<table border=\"1\" class=\"dataframe\">\n",
       "  <thead>\n",
       "    <tr style=\"text-align: right;\">\n",
       "      <th></th>\n",
       "      <th>occur_year</th>\n",
       "      <th>boro</th>\n",
       "      <th>precinct</th>\n",
       "      <th>statistical_murder_flag</th>\n",
       "      <th>vic_age_group</th>\n",
       "      <th>vic_sex</th>\n",
       "      <th>vic_race</th>\n",
       "    </tr>\n",
       "  </thead>\n",
       "  <tbody>\n",
       "    <tr>\n",
       "      <th>0</th>\n",
       "      <td>2006</td>\n",
       "      <td>The Bronx</td>\n",
       "      <td>41</td>\n",
       "      <td>No</td>\n",
       "      <td>25-44</td>\n",
       "      <td>Male</td>\n",
       "      <td>White Hispanic</td>\n",
       "    </tr>\n",
       "    <tr>\n",
       "      <th>1</th>\n",
       "      <td>2006</td>\n",
       "      <td>Manhattan</td>\n",
       "      <td>34</td>\n",
       "      <td>No</td>\n",
       "      <td>18-24</td>\n",
       "      <td>Male</td>\n",
       "      <td>White Hispanic</td>\n",
       "    </tr>\n",
       "    <tr>\n",
       "      <th>2</th>\n",
       "      <td>2006</td>\n",
       "      <td>Manhattan</td>\n",
       "      <td>34</td>\n",
       "      <td>No</td>\n",
       "      <td>18-24</td>\n",
       "      <td>Male</td>\n",
       "      <td>White Hispanic</td>\n",
       "    </tr>\n",
       "    <tr>\n",
       "      <th>3</th>\n",
       "      <td>2006</td>\n",
       "      <td>The Bronx</td>\n",
       "      <td>44</td>\n",
       "      <td>No</td>\n",
       "      <td>18-24</td>\n",
       "      <td>Female</td>\n",
       "      <td>White Hispanic</td>\n",
       "    </tr>\n",
       "  </tbody>\n",
       "</table>\n",
       "</div>"
      ],
      "text/plain": [
       "  occur_year       boro  precinct statistical_murder_flag vic_age_group  \\\n",
       "0       2006  The Bronx        41                      No         25-44   \n",
       "1       2006  Manhattan        34                      No         18-24   \n",
       "2       2006  Manhattan        34                      No         18-24   \n",
       "3       2006  The Bronx        44                      No         18-24   \n",
       "\n",
       "  vic_sex        vic_race  \n",
       "0    Male  White Hispanic  \n",
       "1    Male  White Hispanic  \n",
       "2    Male  White Hispanic  \n",
       "3  Female  White Hispanic  "
      ]
     },
     "execution_count": 20,
     "metadata": {},
     "output_type": "execute_result"
    }
   ],
   "source": [
    "## turn into a dataframe\n",
    "pd.DataFrame(target_data)"
   ]
  },
  {
   "cell_type": "markdown",
   "metadata": {
    "id": "rF6GWru0K4I2"
   },
   "source": [
    "### What do we see?\n",
    "\n",
    "We'll learn how to deal with this shortly."
   ]
  },
  {
   "cell_type": "markdown",
   "metadata": {
    "id": "M7HpXtXnK4I2"
   },
   "source": [
    "## Import ```json``` string"
   ]
  },
  {
   "cell_type": "code",
   "execution_count": 21,
   "metadata": {
    "id": "Z_C9q5XCK4I2"
   },
   "outputs": [],
   "source": [
    "## run this cell that holds a json string\n",
    "my_json = '''\n",
    "{\n",
    "\t\"gun-data\":\n",
    "\n",
    "\t\t[{\n",
    "\t\t\t\t\"occur_year\": \"2006\",\n",
    "\t\t\t\t\"boro\": \"The Bronx\",\n",
    "\t\t\t\t\"precinct\": 41,\n",
    "\t\t\t\t\"statistical_murder_flag\": \"No\",\n",
    "\t\t\t\t\"vic_age_group\": \"25-44\",\n",
    "\t\t\t\t\"vic_sex\": \"Male\",\n",
    "\t\t\t\t\"vic_race\": \"White Hispanic\"\n",
    "\t\t\t},\n",
    "\n",
    "\t\t\t{\n",
    "\n",
    "\t\t\t\t\"occur_year\": \"2006\",\n",
    "\t\t\t\t\"boro\": \"Manhattan\",\n",
    "\t\t\t\t\"precinct\": 34,\n",
    "\t\t\t\t\"statistical_murder_flag\": \"No\",\n",
    "\t\t\t\t\"vic_age_group\": \"18-24\",\n",
    "\t\t\t\t\"vic_sex\": \"Male\",\n",
    "\t\t\t\t\"vic_race\": \"White Hispanic\"\n",
    "\n",
    "\t\t\t},\n",
    "\t\t\t{\n",
    "\t\t\t\t\"occur_year\": \"2006\",\n",
    "\t\t\t\t\"boro\": \"Manhattan\",\n",
    "\t\t\t\t\"precinct\": 34,\n",
    "\t\t\t\t\"statistical_murder_flag\": \"No\",\n",
    "\t\t\t\t\"vic_age_group\": \"18-24\",\n",
    "\t\t\t\t\"vic_sex\": \"Male\",\n",
    "\t\t\t\t\"vic_race\": \"White Hispanic\"\n",
    "\t\t\t},\n",
    "\t\t\t{\n",
    "\t\t\t\t\"occur_year\": \"2006\",\n",
    "\t\t\t\t\"boro\": \"The Bronx\",\n",
    "\t\t\t\t\"precinct\": 44,\n",
    "\t\t\t\t\"statistical_murder_flag\": \"No\",\n",
    "\t\t\t\t\"vic_age_group\": \"18-24\",\n",
    "\t\t\t\t\"vic_sex\": \"Female\",\n",
    "\t\t\t\t\"vic_race\": \"White Hispanic\"\n",
    "\t\t\t}\n",
    "\t\t]\n",
    "\n",
    "}\n",
    "\n",
    "'''"
   ]
  },
  {
   "cell_type": "code",
   "execution_count": 22,
   "metadata": {},
   "outputs": [
    {
     "data": {
      "text/plain": [
       "'\\n{\\n\\t\"gun-data\":\\n\\n\\t\\t[{\\n\\t\\t\\t\\t\"occur_year\": \"2006\",\\n\\t\\t\\t\\t\"boro\": \"The Bronx\",\\n\\t\\t\\t\\t\"precinct\": 41,\\n\\t\\t\\t\\t\"statistical_murder_flag\": \"No\",\\n\\t\\t\\t\\t\"vic_age_group\": \"25-44\",\\n\\t\\t\\t\\t\"vic_sex\": \"Male\",\\n\\t\\t\\t\\t\"vic_race\": \"White Hispanic\"\\n\\t\\t\\t},\\n\\n\\t\\t\\t{\\n\\n\\t\\t\\t\\t\"occur_year\": \"2006\",\\n\\t\\t\\t\\t\"boro\": \"Manhattan\",\\n\\t\\t\\t\\t\"precinct\": 34,\\n\\t\\t\\t\\t\"statistical_murder_flag\": \"No\",\\n\\t\\t\\t\\t\"vic_age_group\": \"18-24\",\\n\\t\\t\\t\\t\"vic_sex\": \"Male\",\\n\\t\\t\\t\\t\"vic_race\": \"White Hispanic\"\\n\\n\\t\\t\\t},\\n\\t\\t\\t{\\n\\t\\t\\t\\t\"occur_year\": \"2006\",\\n\\t\\t\\t\\t\"boro\": \"Manhattan\",\\n\\t\\t\\t\\t\"precinct\": 34,\\n\\t\\t\\t\\t\"statistical_murder_flag\": \"No\",\\n\\t\\t\\t\\t\"vic_age_group\": \"18-24\",\\n\\t\\t\\t\\t\"vic_sex\": \"Male\",\\n\\t\\t\\t\\t\"vic_race\": \"White Hispanic\"\\n\\t\\t\\t},\\n\\t\\t\\t{\\n\\t\\t\\t\\t\"occur_year\": \"2006\",\\n\\t\\t\\t\\t\"boro\": \"The Bronx\",\\n\\t\\t\\t\\t\"precinct\": 44,\\n\\t\\t\\t\\t\"statistical_murder_flag\": \"No\",\\n\\t\\t\\t\\t\"vic_age_group\": \"18-24\",\\n\\t\\t\\t\\t\"vic_sex\": \"Female\",\\n\\t\\t\\t\\t\"vic_race\": \"White Hispanic\"\\n\\t\\t\\t}\\n\\t\\t]\\n\\n}\\n\\n'"
      ]
     },
     "execution_count": 22,
     "metadata": {},
     "output_type": "execute_result"
    }
   ],
   "source": [
    "my_json"
   ]
  },
  {
   "cell_type": "code",
   "execution_count": 24,
   "metadata": {},
   "outputs": [
    {
     "name": "stdout",
     "output_type": "stream",
     "text": [
      "\n",
      "{\n",
      "\t\"gun-data\":\n",
      "\n",
      "\t\t[{\n",
      "\t\t\t\t\"occur_year\": \"2006\",\n",
      "\t\t\t\t\"boro\": \"The Bronx\",\n",
      "\t\t\t\t\"precinct\": 41,\n",
      "\t\t\t\t\"statistical_murder_flag\": \"No\",\n",
      "\t\t\t\t\"vic_age_group\": \"25-44\",\n",
      "\t\t\t\t\"vic_sex\": \"Male\",\n",
      "\t\t\t\t\"vic_race\": \"White Hispanic\"\n",
      "\t\t\t},\n",
      "\n",
      "\t\t\t{\n",
      "\n",
      "\t\t\t\t\"occur_year\": \"2006\",\n",
      "\t\t\t\t\"boro\": \"Manhattan\",\n",
      "\t\t\t\t\"precinct\": 34,\n",
      "\t\t\t\t\"statistical_murder_flag\": \"No\",\n",
      "\t\t\t\t\"vic_age_group\": \"18-24\",\n",
      "\t\t\t\t\"vic_sex\": \"Male\",\n",
      "\t\t\t\t\"vic_race\": \"White Hispanic\"\n",
      "\n",
      "\t\t\t},\n",
      "\t\t\t{\n",
      "\t\t\t\t\"occur_year\": \"2006\",\n",
      "\t\t\t\t\"boro\": \"Manhattan\",\n",
      "\t\t\t\t\"precinct\": 34,\n",
      "\t\t\t\t\"statistical_murder_flag\": \"No\",\n",
      "\t\t\t\t\"vic_age_group\": \"18-24\",\n",
      "\t\t\t\t\"vic_sex\": \"Male\",\n",
      "\t\t\t\t\"vic_race\": \"White Hispanic\"\n",
      "\t\t\t},\n",
      "\t\t\t{\n",
      "\t\t\t\t\"occur_year\": \"2006\",\n",
      "\t\t\t\t\"boro\": \"The Bronx\",\n",
      "\t\t\t\t\"precinct\": 44,\n",
      "\t\t\t\t\"statistical_murder_flag\": \"No\",\n",
      "\t\t\t\t\"vic_age_group\": \"18-24\",\n",
      "\t\t\t\t\"vic_sex\": \"Female\",\n",
      "\t\t\t\t\"vic_race\": \"White Hispanic\"\n",
      "\t\t\t}\n",
      "\t\t]\n",
      "\n",
      "}\n",
      "\n",
      "\n"
     ]
    }
   ],
   "source": [
    "## print\n",
    "print(my_json)"
   ]
  },
  {
   "cell_type": "code",
   "execution_count": 23,
   "metadata": {},
   "outputs": [
    {
     "data": {
      "text/plain": [
       "str"
      ]
     },
     "execution_count": 23,
     "metadata": {},
     "output_type": "execute_result"
    }
   ],
   "source": [
    "type(my_json)"
   ]
  },
  {
   "cell_type": "code",
   "execution_count": 26,
   "metadata": {
    "id": "4XBTQMpPK4I3"
   },
   "outputs": [
    {
     "data": {
      "text/plain": [
       "{'gun-data': [{'occur_year': '2006',\n",
       "   'boro': 'The Bronx',\n",
       "   'precinct': 41,\n",
       "   'statistical_murder_flag': 'No',\n",
       "   'vic_age_group': '25-44',\n",
       "   'vic_sex': 'Male',\n",
       "   'vic_race': 'White Hispanic'},\n",
       "  {'occur_year': '2006',\n",
       "   'boro': 'Manhattan',\n",
       "   'precinct': 34,\n",
       "   'statistical_murder_flag': 'No',\n",
       "   'vic_age_group': '18-24',\n",
       "   'vic_sex': 'Male',\n",
       "   'vic_race': 'White Hispanic'},\n",
       "  {'occur_year': '2006',\n",
       "   'boro': 'Manhattan',\n",
       "   'precinct': 34,\n",
       "   'statistical_murder_flag': 'No',\n",
       "   'vic_age_group': '18-24',\n",
       "   'vic_sex': 'Male',\n",
       "   'vic_race': 'White Hispanic'},\n",
       "  {'occur_year': '2006',\n",
       "   'boro': 'The Bronx',\n",
       "   'precinct': 44,\n",
       "   'statistical_murder_flag': 'No',\n",
       "   'vic_age_group': '18-24',\n",
       "   'vic_sex': 'Female',\n",
       "   'vic_race': 'White Hispanic'}]}"
      ]
     },
     "execution_count": 26,
     "metadata": {},
     "output_type": "execute_result"
    }
   ],
   "source": [
    "## load json string\n",
    "guns_s = json.loads(my_json)\n",
    "guns_s"
   ]
  },
  {
   "cell_type": "code",
   "execution_count": null,
   "metadata": {
    "id": "mmoaHfzuK4I3"
   },
   "outputs": [],
   "source": [
    "## type of data\n"
   ]
  },
  {
   "cell_type": "code",
   "execution_count": 27,
   "metadata": {
    "id": "mjK4oa53K4I3"
   },
   "outputs": [
    {
     "data": {
      "text/plain": [
       "[{'occur_year': '2006',\n",
       "  'boro': 'The Bronx',\n",
       "  'precinct': 41,\n",
       "  'statistical_murder_flag': 'No',\n",
       "  'vic_age_group': '25-44',\n",
       "  'vic_sex': 'Male',\n",
       "  'vic_race': 'White Hispanic'},\n",
       " {'occur_year': '2006',\n",
       "  'boro': 'Manhattan',\n",
       "  'precinct': 34,\n",
       "  'statistical_murder_flag': 'No',\n",
       "  'vic_age_group': '18-24',\n",
       "  'vic_sex': 'Male',\n",
       "  'vic_race': 'White Hispanic'},\n",
       " {'occur_year': '2006',\n",
       "  'boro': 'Manhattan',\n",
       "  'precinct': 34,\n",
       "  'statistical_murder_flag': 'No',\n",
       "  'vic_age_group': '18-24',\n",
       "  'vic_sex': 'Male',\n",
       "  'vic_race': 'White Hispanic'},\n",
       " {'occur_year': '2006',\n",
       "  'boro': 'The Bronx',\n",
       "  'precinct': 44,\n",
       "  'statistical_murder_flag': 'No',\n",
       "  'vic_age_group': '18-24',\n",
       "  'vic_sex': 'Female',\n",
       "  'vic_race': 'White Hispanic'}]"
      ]
     },
     "execution_count": 27,
     "metadata": {},
     "output_type": "execute_result"
    }
   ],
   "source": [
    "## get keys\n",
    "guns_s.get(\"gun-data\")"
   ]
  },
  {
   "cell_type": "code",
   "execution_count": null,
   "metadata": {
    "id": "4oMfbUuPK4I3"
   },
   "outputs": [],
   "source": [
    "## turn into a dataframe\n"
   ]
  },
  {
   "cell_type": "code",
   "execution_count": null,
   "metadata": {
    "id": "0HNyMIimK4I4"
   },
   "outputs": [],
   "source": []
  }
 ],
 "metadata": {
  "colab": {
   "provenance": []
  },
  "kernelspec": {
   "display_name": "Python 3 (ipykernel)",
   "language": "python",
   "name": "python3"
  },
  "language_info": {
   "codemirror_mode": {
    "name": "ipython",
    "version": 3
   },
   "file_extension": ".py",
   "mimetype": "text/x-python",
   "name": "python",
   "nbconvert_exporter": "python",
   "pygments_lexer": "ipython3",
   "version": "3.12.2"
  }
 },
 "nbformat": 4,
 "nbformat_minor": 4
}
